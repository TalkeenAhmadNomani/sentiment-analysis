{
  "cells": [
    {
      "cell_type": "markdown",
      "metadata": {
        "id": "gJ0nxRT_Lc0A"
      },
      "source": [
        "## 1. Setting up Libraries and Imports"
      ]
    },
    {
      "cell_type": "code",
      "execution_count": null,
      "metadata": {
        "id": "6YcV3QllGdHm"
      },
      "outputs": [],
      "source": [
        "# Import libraries for data manipulation, visualization, and NLP\n",
        "import numpy as np\n",
        "import pandas as pd\n",
        "import matplotlib.pyplot as plt\n",
        "import seaborn as sns\n",
        "import warnings\n",
        "import nltk\n",
        "from nltk.corpus import stopwords\n",
        "from nltk.stem.porter import PorterStemmer\n",
        "import time\n",
        "from imblearn.over_sampling import RandomOverSampler"
      ]
    },
    {
      "cell_type": "code",
      "execution_count": 3,
      "metadata": {
        "id": "NsWU5rs7KmCe"
      },
      "outputs": [],
      "source": [
        "# Import libraries for machine learning\n",
        "from sklearn.feature_extraction.text import CountVectorizer\n",
        "from sklearn.model_selection import train_test_split\n",
        "from sklearn.naive_bayes import GaussianNB, MultinomialNB, BernoulliNB\n",
        "from sklearn.linear_model import LogisticRegression\n",
        "from sklearn.svm import SVC\n",
        "from sklearn.ensemble import VotingClassifier\n",
        "from xgboost import XGBClassifier\n",
        "from sklearn.metrics import accuracy_score, classification_report, precision_recall_fscore_support, f1_score"
      ]
    },
    {
      "cell_type": "code",
      "execution_count": 4,
      "metadata": {
        "id": "fmTsauBZKno7"
      },
      "outputs": [],
      "source": [
        "# Import PyTorch libraries for deep learning\n",
        "import torch\n",
        "import torch.nn as nn\n",
        "import torch.optim as optim\n",
        "from torch.utils.data import Dataset, DataLoader\n",
        "from sklearn.preprocessing import LabelEncoder\n",
        "from torch.nn.utils.rnn import pad_sequence\n",
        "from collections import Counter\n",
        "import re"
      ]
    },
    {
      "cell_type": "code",
      "execution_count": 5,
      "metadata": {
        "colab": {
          "base_uri": "https://localhost:8080/"
        },
        "id": "iEb0fslRKp_T",
        "outputId": "da76e3c3-fee5-4eaf-cbae-8cde8701f4e3"
      },
      "outputs": [
        {
          "name": "stderr",
          "output_type": "stream",
          "text": [
            "[nltk_data] Downloading package stopwords to /root/nltk_data...\n",
            "[nltk_data]   Unzipping corpora/stopwords.zip.\n"
          ]
        },
        {
          "data": {
            "text/plain": [
              "True"
            ]
          },
          "execution_count": 5,
          "metadata": {},
          "output_type": "execute_result"
        }
      ],
      "source": [
        "# Suppress warnings for cleaner output\n",
        "warnings.filterwarnings('ignore')\n",
        "\n",
        "# Download NLTK stopwords\n",
        "nltk.download('stopwords')"
      ]
    },
    {
      "cell_type": "markdown",
      "metadata": {
        "id": "4FJeztBDLywN"
      },
      "source": [
        "## 2. Data Loading and Preprocessing"
      ]
    },
    {
      "cell_type": "code",
      "execution_count": null,
      "metadata": {
        "id": "hkZPSGleKrJo"
      },
      "outputs": [],
      "source": [
        "df = pd.read_csv('data/labeled_data.csv')"
      ]
    },
    {
      "cell_type": "code",
      "execution_count": 7,
      "metadata": {
        "colab": {
          "base_uri": "https://localhost:8080/"
        },
        "id": "lcIA3jkeLB6a",
        "outputId": "e4d2a278-1b58-441b-c657-481ab5ebcd43"
      },
      "outputs": [
        {
          "name": "stdout",
          "output_type": "stream",
          "text": [
            "Dataset Shape: (24783, 7)\n"
          ]
        }
      ],
      "source": [
        "print(\"Dataset Shape:\", df.shape)"
      ]
    },
    {
      "cell_type": "code",
      "execution_count": 8,
      "metadata": {
        "colab": {
          "base_uri": "https://localhost:8080/"
        },
        "id": "-HLZOCI9LFMY",
        "outputId": "f89601f9-81a6-4f63-e416-6482da2e3eb4"
      },
      "outputs": [
        {
          "name": "stdout",
          "output_type": "stream",
          "text": [
            "\n",
            "Columns: ['Unnamed: 0', 'count', 'hate_speech', 'offensive_language', 'neither', 'class', 'tweet']\n"
          ]
        }
      ],
      "source": [
        "print(\"\\nColumns:\", df.columns.tolist())"
      ]
    },
    {
      "cell_type": "code",
      "execution_count": 9,
      "metadata": {
        "colab": {
          "base_uri": "https://localhost:8080/",
          "height": 206
        },
        "id": "--M5ksv7LHY0",
        "outputId": "0c294012-c0d2-4ae6-fcba-29cb4df373c5"
      },
      "outputs": [
        {
          "data": {
            "application/vnd.google.colaboratory.intrinsic+json": {
              "summary": "{\n  \"name\": \"df\",\n  \"rows\": 24783,\n  \"fields\": [\n    {\n      \"column\": \"Unnamed: 0\",\n      \"properties\": {\n        \"dtype\": \"number\",\n        \"std\": 7299,\n        \"min\": 0,\n        \"max\": 25296,\n        \"num_unique_values\": 24783,\n        \"samples\": [\n          2326,\n          16283,\n          19362\n        ],\n        \"semantic_type\": \"\",\n        \"description\": \"\"\n      }\n    },\n    {\n      \"column\": \"count\",\n      \"properties\": {\n        \"dtype\": \"number\",\n        \"std\": 0,\n        \"min\": 3,\n        \"max\": 9,\n        \"num_unique_values\": 5,\n        \"samples\": [\n          6,\n          7,\n          9\n        ],\n        \"semantic_type\": \"\",\n        \"description\": \"\"\n      }\n    },\n    {\n      \"column\": \"hate_speech\",\n      \"properties\": {\n        \"dtype\": \"number\",\n        \"std\": 0,\n        \"min\": 0,\n        \"max\": 7,\n        \"num_unique_values\": 8,\n        \"samples\": [\n          1,\n          6,\n          0\n        ],\n        \"semantic_type\": \"\",\n        \"description\": \"\"\n      }\n    },\n    {\n      \"column\": \"offensive_language\",\n      \"properties\": {\n        \"dtype\": \"number\",\n        \"std\": 1,\n        \"min\": 0,\n        \"max\": 9,\n        \"num_unique_values\": 10,\n        \"samples\": [\n          8,\n          3,\n          7\n        ],\n        \"semantic_type\": \"\",\n        \"description\": \"\"\n      }\n    },\n    {\n      \"column\": \"neither\",\n      \"properties\": {\n        \"dtype\": \"number\",\n        \"std\": 1,\n        \"min\": 0,\n        \"max\": 9,\n        \"num_unique_values\": 10,\n        \"samples\": [\n          8,\n          0,\n          4\n        ],\n        \"semantic_type\": \"\",\n        \"description\": \"\"\n      }\n    },\n    {\n      \"column\": \"class\",\n      \"properties\": {\n        \"dtype\": \"number\",\n        \"std\": 0,\n        \"min\": 0,\n        \"max\": 2,\n        \"num_unique_values\": 3,\n        \"samples\": [\n          2,\n          1,\n          0\n        ],\n        \"semantic_type\": \"\",\n        \"description\": \"\"\n      }\n    },\n    {\n      \"column\": \"tweet\",\n      \"properties\": {\n        \"dtype\": \"string\",\n        \"num_unique_values\": 24783,\n        \"samples\": [\n          \"934 8616\\ni got a missed call from yo bitch\",\n          \"RT @KINGTUNCHI_: Fucking with a bad bitch you gone need some money lil homie!\",\n          \"RT @eanahS__: @1inkkofrosess lol my credit ain't no where near good , but I know the right man for the job .. that ho nice though!\"\n        ],\n        \"semantic_type\": \"\",\n        \"description\": \"\"\n      }\n    }\n  ]\n}",
              "type": "dataframe",
              "variable_name": "df"
            },
            "text/html": [
              "\n",
              "  <div id=\"df-f726fb6a-b98f-496b-9eaa-466564d30468\" class=\"colab-df-container\">\n",
              "    <div>\n",
              "<style scoped>\n",
              "    .dataframe tbody tr th:only-of-type {\n",
              "        vertical-align: middle;\n",
              "    }\n",
              "\n",
              "    .dataframe tbody tr th {\n",
              "        vertical-align: top;\n",
              "    }\n",
              "\n",
              "    .dataframe thead th {\n",
              "        text-align: right;\n",
              "    }\n",
              "</style>\n",
              "<table border=\"1\" class=\"dataframe\">\n",
              "  <thead>\n",
              "    <tr style=\"text-align: right;\">\n",
              "      <th></th>\n",
              "      <th>Unnamed: 0</th>\n",
              "      <th>count</th>\n",
              "      <th>hate_speech</th>\n",
              "      <th>offensive_language</th>\n",
              "      <th>neither</th>\n",
              "      <th>class</th>\n",
              "      <th>tweet</th>\n",
              "    </tr>\n",
              "  </thead>\n",
              "  <tbody>\n",
              "    <tr>\n",
              "      <th>0</th>\n",
              "      <td>0</td>\n",
              "      <td>3</td>\n",
              "      <td>0</td>\n",
              "      <td>0</td>\n",
              "      <td>3</td>\n",
              "      <td>2</td>\n",
              "      <td>!!! RT @mayasolovely: As a woman you shouldn't...</td>\n",
              "    </tr>\n",
              "    <tr>\n",
              "      <th>1</th>\n",
              "      <td>1</td>\n",
              "      <td>3</td>\n",
              "      <td>0</td>\n",
              "      <td>3</td>\n",
              "      <td>0</td>\n",
              "      <td>1</td>\n",
              "      <td>!!!!! RT @mleew17: boy dats cold...tyga dwn ba...</td>\n",
              "    </tr>\n",
              "    <tr>\n",
              "      <th>2</th>\n",
              "      <td>2</td>\n",
              "      <td>3</td>\n",
              "      <td>0</td>\n",
              "      <td>3</td>\n",
              "      <td>0</td>\n",
              "      <td>1</td>\n",
              "      <td>!!!!!!! RT @UrKindOfBrand Dawg!!!! RT @80sbaby...</td>\n",
              "    </tr>\n",
              "    <tr>\n",
              "      <th>3</th>\n",
              "      <td>3</td>\n",
              "      <td>3</td>\n",
              "      <td>0</td>\n",
              "      <td>2</td>\n",
              "      <td>1</td>\n",
              "      <td>1</td>\n",
              "      <td>!!!!!!!!! RT @C_G_Anderson: @viva_based she lo...</td>\n",
              "    </tr>\n",
              "    <tr>\n",
              "      <th>4</th>\n",
              "      <td>4</td>\n",
              "      <td>6</td>\n",
              "      <td>0</td>\n",
              "      <td>6</td>\n",
              "      <td>0</td>\n",
              "      <td>1</td>\n",
              "      <td>!!!!!!!!!!!!! RT @ShenikaRoberts: The shit you...</td>\n",
              "    </tr>\n",
              "  </tbody>\n",
              "</table>\n",
              "</div>\n",
              "    <div class=\"colab-df-buttons\">\n",
              "\n",
              "  <div class=\"colab-df-container\">\n",
              "    <button class=\"colab-df-convert\" onclick=\"convertToInteractive('df-f726fb6a-b98f-496b-9eaa-466564d30468')\"\n",
              "            title=\"Convert this dataframe to an interactive table.\"\n",
              "            style=\"display:none;\">\n",
              "\n",
              "  <svg xmlns=\"http://www.w3.org/2000/svg\" height=\"24px\" viewBox=\"0 -960 960 960\">\n",
              "    <path d=\"M120-120v-720h720v720H120Zm60-500h600v-160H180v160Zm220 220h160v-160H400v160Zm0 220h160v-160H400v160ZM180-400h160v-160H180v160Zm440 0h160v-160H620v160ZM180-180h160v-160H180v160Zm440 0h160v-160H620v160Z\"/>\n",
              "  </svg>\n",
              "    </button>\n",
              "\n",
              "  <style>\n",
              "    .colab-df-container {\n",
              "      display:flex;\n",
              "      gap: 12px;\n",
              "    }\n",
              "\n",
              "    .colab-df-convert {\n",
              "      background-color: #E8F0FE;\n",
              "      border: none;\n",
              "      border-radius: 50%;\n",
              "      cursor: pointer;\n",
              "      display: none;\n",
              "      fill: #1967D2;\n",
              "      height: 32px;\n",
              "      padding: 0 0 0 0;\n",
              "      width: 32px;\n",
              "    }\n",
              "\n",
              "    .colab-df-convert:hover {\n",
              "      background-color: #E2EBFA;\n",
              "      box-shadow: 0px 1px 2px rgba(60, 64, 67, 0.3), 0px 1px 3px 1px rgba(60, 64, 67, 0.15);\n",
              "      fill: #174EA6;\n",
              "    }\n",
              "\n",
              "    .colab-df-buttons div {\n",
              "      margin-bottom: 4px;\n",
              "    }\n",
              "\n",
              "    [theme=dark] .colab-df-convert {\n",
              "      background-color: #3B4455;\n",
              "      fill: #D2E3FC;\n",
              "    }\n",
              "\n",
              "    [theme=dark] .colab-df-convert:hover {\n",
              "      background-color: #434B5C;\n",
              "      box-shadow: 0px 1px 3px 1px rgba(0, 0, 0, 0.15);\n",
              "      filter: drop-shadow(0px 1px 2px rgba(0, 0, 0, 0.3));\n",
              "      fill: #FFFFFF;\n",
              "    }\n",
              "  </style>\n",
              "\n",
              "    <script>\n",
              "      const buttonEl =\n",
              "        document.querySelector('#df-f726fb6a-b98f-496b-9eaa-466564d30468 button.colab-df-convert');\n",
              "      buttonEl.style.display =\n",
              "        google.colab.kernel.accessAllowed ? 'block' : 'none';\n",
              "\n",
              "      async function convertToInteractive(key) {\n",
              "        const element = document.querySelector('#df-f726fb6a-b98f-496b-9eaa-466564d30468');\n",
              "        const dataTable =\n",
              "          await google.colab.kernel.invokeFunction('convertToInteractive',\n",
              "                                                    [key], {});\n",
              "        if (!dataTable) return;\n",
              "\n",
              "        const docLinkHtml = 'Like what you see? Visit the ' +\n",
              "          '<a target=\"_blank\" href=https://colab.research.google.com/notebooks/data_table.ipynb>data table notebook</a>'\n",
              "          + ' to learn more about interactive tables.';\n",
              "        element.innerHTML = '';\n",
              "        dataTable['output_type'] = 'display_data';\n",
              "        await google.colab.output.renderOutput(dataTable, element);\n",
              "        const docLink = document.createElement('div');\n",
              "        docLink.innerHTML = docLinkHtml;\n",
              "        element.appendChild(docLink);\n",
              "      }\n",
              "    </script>\n",
              "  </div>\n",
              "\n",
              "\n",
              "    <div id=\"df-13ba024b-d2de-4659-a906-074a2c5bf21d\">\n",
              "      <button class=\"colab-df-quickchart\" onclick=\"quickchart('df-13ba024b-d2de-4659-a906-074a2c5bf21d')\"\n",
              "                title=\"Suggest charts\"\n",
              "                style=\"display:none;\">\n",
              "\n",
              "<svg xmlns=\"http://www.w3.org/2000/svg\" height=\"24px\"viewBox=\"0 0 24 24\"\n",
              "     width=\"24px\">\n",
              "    <g>\n",
              "        <path d=\"M19 3H5c-1.1 0-2 .9-2 2v14c0 1.1.9 2 2 2h14c1.1 0 2-.9 2-2V5c0-1.1-.9-2-2-2zM9 17H7v-7h2v7zm4 0h-2V7h2v10zm4 0h-2v-4h2v4z\"/>\n",
              "    </g>\n",
              "</svg>\n",
              "      </button>\n",
              "\n",
              "<style>\n",
              "  .colab-df-quickchart {\n",
              "      --bg-color: #E8F0FE;\n",
              "      --fill-color: #1967D2;\n",
              "      --hover-bg-color: #E2EBFA;\n",
              "      --hover-fill-color: #174EA6;\n",
              "      --disabled-fill-color: #AAA;\n",
              "      --disabled-bg-color: #DDD;\n",
              "  }\n",
              "\n",
              "  [theme=dark] .colab-df-quickchart {\n",
              "      --bg-color: #3B4455;\n",
              "      --fill-color: #D2E3FC;\n",
              "      --hover-bg-color: #434B5C;\n",
              "      --hover-fill-color: #FFFFFF;\n",
              "      --disabled-bg-color: #3B4455;\n",
              "      --disabled-fill-color: #666;\n",
              "  }\n",
              "\n",
              "  .colab-df-quickchart {\n",
              "    background-color: var(--bg-color);\n",
              "    border: none;\n",
              "    border-radius: 50%;\n",
              "    cursor: pointer;\n",
              "    display: none;\n",
              "    fill: var(--fill-color);\n",
              "    height: 32px;\n",
              "    padding: 0;\n",
              "    width: 32px;\n",
              "  }\n",
              "\n",
              "  .colab-df-quickchart:hover {\n",
              "    background-color: var(--hover-bg-color);\n",
              "    box-shadow: 0 1px 2px rgba(60, 64, 67, 0.3), 0 1px 3px 1px rgba(60, 64, 67, 0.15);\n",
              "    fill: var(--button-hover-fill-color);\n",
              "  }\n",
              "\n",
              "  .colab-df-quickchart-complete:disabled,\n",
              "  .colab-df-quickchart-complete:disabled:hover {\n",
              "    background-color: var(--disabled-bg-color);\n",
              "    fill: var(--disabled-fill-color);\n",
              "    box-shadow: none;\n",
              "  }\n",
              "\n",
              "  .colab-df-spinner {\n",
              "    border: 2px solid var(--fill-color);\n",
              "    border-color: transparent;\n",
              "    border-bottom-color: var(--fill-color);\n",
              "    animation:\n",
              "      spin 1s steps(1) infinite;\n",
              "  }\n",
              "\n",
              "  @keyframes spin {\n",
              "    0% {\n",
              "      border-color: transparent;\n",
              "      border-bottom-color: var(--fill-color);\n",
              "      border-left-color: var(--fill-color);\n",
              "    }\n",
              "    20% {\n",
              "      border-color: transparent;\n",
              "      border-left-color: var(--fill-color);\n",
              "      border-top-color: var(--fill-color);\n",
              "    }\n",
              "    30% {\n",
              "      border-color: transparent;\n",
              "      border-left-color: var(--fill-color);\n",
              "      border-top-color: var(--fill-color);\n",
              "      border-right-color: var(--fill-color);\n",
              "    }\n",
              "    40% {\n",
              "      border-color: transparent;\n",
              "      border-right-color: var(--fill-color);\n",
              "      border-top-color: var(--fill-color);\n",
              "    }\n",
              "    60% {\n",
              "      border-color: transparent;\n",
              "      border-right-color: var(--fill-color);\n",
              "    }\n",
              "    80% {\n",
              "      border-color: transparent;\n",
              "      border-right-color: var(--fill-color);\n",
              "      border-bottom-color: var(--fill-color);\n",
              "    }\n",
              "    90% {\n",
              "      border-color: transparent;\n",
              "      border-bottom-color: var(--fill-color);\n",
              "    }\n",
              "  }\n",
              "</style>\n",
              "\n",
              "      <script>\n",
              "        async function quickchart(key) {\n",
              "          const quickchartButtonEl =\n",
              "            document.querySelector('#' + key + ' button');\n",
              "          quickchartButtonEl.disabled = true;  // To prevent multiple clicks.\n",
              "          quickchartButtonEl.classList.add('colab-df-spinner');\n",
              "          try {\n",
              "            const charts = await google.colab.kernel.invokeFunction(\n",
              "                'suggestCharts', [key], {});\n",
              "          } catch (error) {\n",
              "            console.error('Error during call to suggestCharts:', error);\n",
              "          }\n",
              "          quickchartButtonEl.classList.remove('colab-df-spinner');\n",
              "          quickchartButtonEl.classList.add('colab-df-quickchart-complete');\n",
              "        }\n",
              "        (() => {\n",
              "          let quickchartButtonEl =\n",
              "            document.querySelector('#df-13ba024b-d2de-4659-a906-074a2c5bf21d button');\n",
              "          quickchartButtonEl.style.display =\n",
              "            google.colab.kernel.accessAllowed ? 'block' : 'none';\n",
              "        })();\n",
              "      </script>\n",
              "    </div>\n",
              "\n",
              "    </div>\n",
              "  </div>\n"
            ],
            "text/plain": [
              "   Unnamed: 0  count  hate_speech  offensive_language  neither  class  \\\n",
              "0           0      3            0                   0        3      2   \n",
              "1           1      3            0                   3        0      1   \n",
              "2           2      3            0                   3        0      1   \n",
              "3           3      3            0                   2        1      1   \n",
              "4           4      6            0                   6        0      1   \n",
              "\n",
              "                                               tweet  \n",
              "0  !!! RT @mayasolovely: As a woman you shouldn't...  \n",
              "1  !!!!! RT @mleew17: boy dats cold...tyga dwn ba...  \n",
              "2  !!!!!!! RT @UrKindOfBrand Dawg!!!! RT @80sbaby...  \n",
              "3  !!!!!!!!! RT @C_G_Anderson: @viva_based she lo...  \n",
              "4  !!!!!!!!!!!!! RT @ShenikaRoberts: The shit you...  "
            ]
          },
          "execution_count": 9,
          "metadata": {},
          "output_type": "execute_result"
        }
      ],
      "source": [
        "df.head()"
      ]
    },
    {
      "cell_type": "code",
      "execution_count": 10,
      "metadata": {
        "colab": {
          "base_uri": "https://localhost:8080/"
        },
        "id": "o99o2sfPLKLY",
        "outputId": "97ae6cc1-7227-43dc-ee37-2c4499f3ee1a"
      },
      "outputs": [
        {
          "name": "stdout",
          "output_type": "stream",
          "text": [
            "\n",
            "Missing Values:\n",
            "Unnamed: 0            0\n",
            "count                 0\n",
            "hate_speech           0\n",
            "offensive_language    0\n",
            "neither               0\n",
            "class                 0\n",
            "tweet                 0\n",
            "dtype: int64\n"
          ]
        }
      ],
      "source": [
        "print(\"\\nMissing Values:\")\n",
        "print(df.isnull().sum())"
      ]
    },
    {
      "cell_type": "code",
      "execution_count": 11,
      "metadata": {
        "colab": {
          "base_uri": "https://localhost:8080/"
        },
        "id": "3Ugkm8iYLPfq",
        "outputId": "651e97fb-36c8-4ce3-cac3-b085d5a9c324"
      },
      "outputs": [
        {
          "name": "stdout",
          "output_type": "stream",
          "text": [
            "\n",
            "Dataset Info:\n",
            "<class 'pandas.core.frame.DataFrame'>\n",
            "RangeIndex: 24783 entries, 0 to 24782\n",
            "Data columns (total 7 columns):\n",
            " #   Column              Non-Null Count  Dtype \n",
            "---  ------              --------------  ----- \n",
            " 0   Unnamed: 0          24783 non-null  int64 \n",
            " 1   count               24783 non-null  int64 \n",
            " 2   hate_speech         24783 non-null  int64 \n",
            " 3   offensive_language  24783 non-null  int64 \n",
            " 4   neither             24783 non-null  int64 \n",
            " 5   class               24783 non-null  int64 \n",
            " 6   tweet               24783 non-null  object\n",
            "dtypes: int64(6), object(1)\n",
            "memory usage: 1.3+ MB\n"
          ]
        }
      ],
      "source": [
        "print(\"\\nDataset Info:\")\n",
        "df.info()"
      ]
    },
    {
      "cell_type": "code",
      "execution_count": 12,
      "metadata": {
        "colab": {
          "base_uri": "https://localhost:8080/"
        },
        "id": "g1FcK0syLR_P",
        "outputId": "4a7feb5f-9015-4091-a557-43c3782a6cfe"
      },
      "outputs": [
        {
          "name": "stdout",
          "output_type": "stream",
          "text": [
            "\n",
            "Class Counts:\n",
            "class\n",
            "1    19190\n",
            "2     4163\n",
            "0     1430\n",
            "Name: count, dtype: int64\n",
            "\n",
            "Class Percentages:\n",
            "class\n",
            "1    77.432111\n",
            "2    16.797805\n",
            "0     5.770084\n",
            "Name: proportion, dtype: float64\n"
          ]
        }
      ],
      "source": [
        "class_counts = df['class'].value_counts()\n",
        "class_percentages = df['class'].value_counts(normalize=True) * 100\n",
        "\n",
        "print(\"\\nClass Counts:\")\n",
        "print(class_counts)\n",
        "print(\"\\nClass Percentages:\")\n",
        "print(class_percentages)"
      ]
    },
    {
      "cell_type": "code",
      "execution_count": 13,
      "metadata": {
        "colab": {
          "base_uri": "https://localhost:8080/",
          "height": 564
        },
        "id": "6AlmNLXCLV9V",
        "outputId": "0888baf0-ae3e-4c1e-ba5f-3d7fc0237cb0"
      },
      "outputs": [
        {
          "data": {
            "image/png": "[encoded data removed]",
            "text/plain": [
              "<Figure size 800x600 with 1 Axes>"
            ]
          },
          "metadata": {},
          "output_type": "display_data"
        }
      ],
      "source": [
        "plt.figure(figsize=(8, 6))\n",
        "sns.countplot(x='class', data=df)\n",
        "plt.title('Class Distribution (0: Hate Speech, 1: Offensive Language, 2: Neither)')\n",
        "plt.xlabel('Class')\n",
        "plt.ylabel('Count')\n",
        "plt.show()"
      ]
    },
    {
      "cell_type": "code",
      "execution_count": 14,
      "metadata": {
        "id": "jtQ7SJD6Oo06"
      },
      "outputs": [],
      "source": [
        "# Keep only the relevant columns: 'class' and 'tweet'\n",
        "df = df[['class', 'tweet']]"
      ]
    },
    {
      "cell_type": "code",
      "execution_count": 15,
      "metadata": {
        "id": "jdPDRakOQ4Hc"
      },
      "outputs": [],
      "source": [
        "import re\n",
        "\n",
        "def clean_text(text):\n",
        "    # Lowercase\n",
        "    text = text.lower()\n",
        "    # Remove URLs\n",
        "    text = re.sub(r'http\\S+|www\\S+|https\\S+', '', text, flags=re.MULTILINE)\n",
        "    # Remove user mentions\n",
        "    text = re.sub(r'@\\w+', '', text)\n",
        "    # Remove hashtags (just remove # symbol, keep the word if useful)\n",
        "    text = re.sub(r'#', '', text)\n",
        "    # Remove numbers\n",
        "    text = re.sub(r'\\d+', '', text)\n",
        "    # Remove punctuation and special characters\n",
        "    text = re.sub(r'[^\\w\\s]', '', text)\n",
        "    # Remove extra whitespace\n",
        "    text = re.sub(r'\\s+', ' ', text).strip()\n",
        "    return text\n",
        "\n",
        "# Apply the cleaning function\n",
        "df['cleaned_tweet'] = df['tweet'].apply(clean_text)"
      ]
    },
    {
      "cell_type": "code",
      "execution_count": 16,
      "metadata": {
        "id": "uKpP4YKdRAOo"
      },
      "outputs": [],
      "source": [
        "stop_words = set(stopwords.words('english'))\n",
        "\n",
        "def remove_stopwords(text):\n",
        "    tokens = text.split()\n",
        "    filtered = [word for word in tokens if word not in stop_words]\n",
        "    return ' '.join(filtered)\n",
        "\n",
        "df['cleaned_tweet'] = df['cleaned_tweet'].apply(remove_stopwords)"
      ]
    },
    {
      "cell_type": "code",
      "execution_count": 17,
      "metadata": {
        "id": "nz-yFlmBRBcI"
      },
      "outputs": [],
      "source": [
        "stemmer = PorterStemmer()\n",
        "\n",
        "def stem_text(text):\n",
        "    tokens = text.split()\n",
        "    stemmed = [stemmer.stem(word) for word in tokens]\n",
        "    return ' '.join(stemmed)\n",
        "\n",
        "df['cleaned_tweet'] = df['cleaned_tweet'].apply(stem_text)"
      ]
    },
    {
      "cell_type": "code",
      "execution_count": 18,
      "metadata": {
        "colab": {
          "base_uri": "https://localhost:8080/",
          "height": 424
        },
        "id": "KBUbsOqYRKHF",
        "outputId": "7b086ab4-3c23-4fc7-afb3-4b5f4db8bc9c"
      },
      "outputs": [
        {
          "data": {
            "application/vnd.google.colaboratory.intrinsic+json": {
              "summary": "{\n  \"name\": \"df\",\n  \"rows\": 24783,\n  \"fields\": [\n    {\n      \"column\": \"class\",\n      \"properties\": {\n        \"dtype\": \"number\",\n        \"std\": 0,\n        \"min\": 0,\n        \"max\": 2,\n        \"num_unique_values\": 3,\n        \"samples\": [\n          2,\n          1,\n          0\n        ],\n        \"semantic_type\": \"\",\n        \"description\": \"\"\n      }\n    },\n    {\n      \"column\": \"tweet\",\n      \"properties\": {\n        \"dtype\": \"string\",\n        \"num_unique_values\": 24783,\n        \"samples\": [\n          \"934 8616\\ni got a missed call from yo bitch\",\n          \"RT @KINGTUNCHI_: Fucking with a bad bitch you gone need some money lil homie!\",\n          \"RT @eanahS__: @1inkkofrosess lol my credit ain't no where near good , but I know the right man for the job .. that ho nice though!\"\n        ],\n        \"semantic_type\": \"\",\n        \"description\": \"\"\n      }\n    },\n    {\n      \"column\": \"cleaned_tweet\",\n      \"properties\": {\n        \"dtype\": \"string\",\n        \"num_unique_values\": 23988,\n        \"samples\": [\n          \"rt drop hoe girl say dont want relationship\",\n          \"much ucla team beat trash\",\n          \"excit red velvet browni\"\n        ],\n        \"semantic_type\": \"\",\n        \"description\": \"\"\n      }\n    }\n  ]\n}",
              "type": "dataframe",
              "variable_name": "df"
            },
            "text/html": [
              "\n",
              "  <div id=\"df-14966b54-b724-4e03-bc84-c078157046e4\" class=\"colab-df-container\">\n",
              "    <div>\n",
              "<style scoped>\n",
              "    .dataframe tbody tr th:only-of-type {\n",
              "        vertical-align: middle;\n",
              "    }\n",
              "\n",
              "    .dataframe tbody tr th {\n",
              "        vertical-align: top;\n",
              "    }\n",
              "\n",
              "    .dataframe thead th {\n",
              "        text-align: right;\n",
              "    }\n",
              "</style>\n",
              "<table border=\"1\" class=\"dataframe\">\n",
              "  <thead>\n",
              "    <tr style=\"text-align: right;\">\n",
              "      <th></th>\n",
              "      <th>class</th>\n",
              "      <th>tweet</th>\n",
              "      <th>cleaned_tweet</th>\n",
              "    </tr>\n",
              "  </thead>\n",
              "  <tbody>\n",
              "    <tr>\n",
              "      <th>0</th>\n",
              "      <td>2</td>\n",
              "      <td>!!! RT @mayasolovely: As a woman you shouldn't...</td>\n",
              "      <td>rt woman shouldnt complain clean hous amp man ...</td>\n",
              "    </tr>\n",
              "    <tr>\n",
              "      <th>1</th>\n",
              "      <td>1</td>\n",
              "      <td>!!!!! RT @mleew17: boy dats cold...tyga dwn ba...</td>\n",
              "      <td>rt boy dat coldtyga dwn bad cuffin dat hoe st ...</td>\n",
              "    </tr>\n",
              "    <tr>\n",
              "      <th>2</th>\n",
              "      <td>1</td>\n",
              "      <td>!!!!!!! RT @UrKindOfBrand Dawg!!!! RT @80sbaby...</td>\n",
              "      <td>rt dawg rt ever fuck bitch start cri confus shit</td>\n",
              "    </tr>\n",
              "    <tr>\n",
              "      <th>3</th>\n",
              "      <td>1</td>\n",
              "      <td>!!!!!!!!! RT @C_G_Anderson: @viva_based she lo...</td>\n",
              "      <td>rt look like tranni</td>\n",
              "    </tr>\n",
              "    <tr>\n",
              "      <th>4</th>\n",
              "      <td>1</td>\n",
              "      <td>!!!!!!!!!!!!! RT @ShenikaRoberts: The shit you...</td>\n",
              "      <td>rt shit hear might true might faker bitch told ya</td>\n",
              "    </tr>\n",
              "    <tr>\n",
              "      <th>...</th>\n",
              "      <td>...</td>\n",
              "      <td>...</td>\n",
              "      <td>...</td>\n",
              "    </tr>\n",
              "    <tr>\n",
              "      <th>24778</th>\n",
              "      <td>1</td>\n",
              "      <td>you's a muthaf***in lie &amp;#8220;@LifeAsKing: @2...</td>\n",
              "      <td>you muthafin lie right tl trash mine bibl scri...</td>\n",
              "    </tr>\n",
              "    <tr>\n",
              "      <th>24779</th>\n",
              "      <td>2</td>\n",
              "      <td>you've gone and broke the wrong heart baby, an...</td>\n",
              "      <td>youv gone broke wrong heart babi drove redneck...</td>\n",
              "    </tr>\n",
              "    <tr>\n",
              "      <th>24780</th>\n",
              "      <td>1</td>\n",
              "      <td>young buck wanna eat!!.. dat nigguh like I ain...</td>\n",
              "      <td>young buck wanna eat dat nigguh like aint fuck...</td>\n",
              "    </tr>\n",
              "    <tr>\n",
              "      <th>24781</th>\n",
              "      <td>1</td>\n",
              "      <td>youu got wild bitches tellin you lies</td>\n",
              "      <td>youu got wild bitch tellin lie</td>\n",
              "    </tr>\n",
              "    <tr>\n",
              "      <th>24782</th>\n",
              "      <td>2</td>\n",
              "      <td>~~Ruffled | Ntac Eileen Dahlia - Beautiful col...</td>\n",
              "      <td>ruffl ntac eileen dahlia beauti color combin p...</td>\n",
              "    </tr>\n",
              "  </tbody>\n",
              "</table>\n",
              "<p>24783 rows × 3 columns</p>\n",
              "</div>\n",
              "    <div class=\"colab-df-buttons\">\n",
              "\n",
              "  <div class=\"colab-df-container\">\n",
              "    <button class=\"colab-df-convert\" onclick=\"convertToInteractive('df-14966b54-b724-4e03-bc84-c078157046e4')\"\n",
              "            title=\"Convert this dataframe to an interactive table.\"\n",
              "            style=\"display:none;\">\n",
              "\n",
              "  <svg xmlns=\"http://www.w3.org/2000/svg\" height=\"24px\" viewBox=\"0 -960 960 960\">\n",
              "    <path d=\"M120-120v-720h720v720H120Zm60-500h600v-160H180v160Zm220 220h160v-160H400v160Zm0 220h160v-160H400v160ZM180-400h160v-160H180v160Zm440 0h160v-160H620v160ZM180-180h160v-160H180v160Zm440 0h160v-160H620v160Z\"/>\n",
              "  </svg>\n",
              "    </button>\n",
              "\n",
              "  <style>\n",
              "    .colab-df-container {\n",
              "      display:flex;\n",
              "      gap: 12px;\n",
              "    }\n",
              "\n",
              "    .colab-df-convert {\n",
              "      background-color: #E8F0FE;\n",
              "      border: none;\n",
              "      border-radius: 50%;\n",
              "      cursor: pointer;\n",
              "      display: none;\n",
              "      fill: #1967D2;\n",
              "      height: 32px;\n",
              "      padding: 0 0 0 0;\n",
              "      width: 32px;\n",
              "    }\n",
              "\n",
              "    .colab-df-convert:hover {\n",
              "      background-color: #E2EBFA;\n",
              "      box-shadow: 0px 1px 2px rgba(60, 64, 67, 0.3), 0px 1px 3px 1px rgba(60, 64, 67, 0.15);\n",
              "      fill: #174EA6;\n",
              "    }\n",
              "\n",
              "    .colab-df-buttons div {\n",
              "      margin-bottom: 4px;\n",
              "    }\n",
              "\n",
              "    [theme=dark] .colab-df-convert {\n",
              "      background-color: #3B4455;\n",
              "      fill: #D2E3FC;\n",
              "    }\n",
              "\n",
              "    [theme=dark] .colab-df-convert:hover {\n",
              "      background-color: #434B5C;\n",
              "      box-shadow: 0px 1px 3px 1px rgba(0, 0, 0, 0.15);\n",
              "      filter: drop-shadow(0px 1px 2px rgba(0, 0, 0, 0.3));\n",
              "      fill: #FFFFFF;\n",
              "    }\n",
              "  </style>\n",
              "\n",
              "    <script>\n",
              "      const buttonEl =\n",
              "        document.querySelector('#df-14966b54-b724-4e03-bc84-c078157046e4 button.colab-df-convert');\n",
              "      buttonEl.style.display =\n",
              "        google.colab.kernel.accessAllowed ? 'block' : 'none';\n",
              "\n",
              "      async function convertToInteractive(key) {\n",
              "        const element = document.querySelector('#df-14966b54-b724-4e03-bc84-c078157046e4');\n",
              "        const dataTable =\n",
              "          await google.colab.kernel.invokeFunction('convertToInteractive',\n",
              "                                                    [key], {});\n",
              "        if (!dataTable) return;\n",
              "\n",
              "        const docLinkHtml = 'Like what you see? Visit the ' +\n",
              "          '<a target=\"_blank\" href=https://colab.research.google.com/notebooks/data_table.ipynb>data table notebook</a>'\n",
              "          + ' to learn more about interactive tables.';\n",
              "        element.innerHTML = '';\n",
              "        dataTable['output_type'] = 'display_data';\n",
              "        await google.colab.output.renderOutput(dataTable, element);\n",
              "        const docLink = document.createElement('div');\n",
              "        docLink.innerHTML = docLinkHtml;\n",
              "        element.appendChild(docLink);\n",
              "      }\n",
              "    </script>\n",
              "  </div>\n",
              "\n",
              "\n",
              "    <div id=\"df-60152f64-96b3-41ef-8bf5-c96bdc04bf5f\">\n",
              "      <button class=\"colab-df-quickchart\" onclick=\"quickchart('df-60152f64-96b3-41ef-8bf5-c96bdc04bf5f')\"\n",
              "                title=\"Suggest charts\"\n",
              "                style=\"display:none;\">\n",
              "\n",
              "<svg xmlns=\"http://www.w3.org/2000/svg\" height=\"24px\"viewBox=\"0 0 24 24\"\n",
              "     width=\"24px\">\n",
              "    <g>\n",
              "        <path d=\"M19 3H5c-1.1 0-2 .9-2 2v14c0 1.1.9 2 2 2h14c1.1 0 2-.9 2-2V5c0-1.1-.9-2-2-2zM9 17H7v-7h2v7zm4 0h-2V7h2v10zm4 0h-2v-4h2v4z\"/>\n",
              "    </g>\n",
              "</svg>\n",
              "      </button>\n",
              "\n",
              "<style>\n",
              "  .colab-df-quickchart {\n",
              "      --bg-color: #E8F0FE;\n",
              "      --fill-color: #1967D2;\n",
              "      --hover-bg-color: #E2EBFA;\n",
              "      --hover-fill-color: #174EA6;\n",
              "      --disabled-fill-color: #AAA;\n",
              "      --disabled-bg-color: #DDD;\n",
              "  }\n",
              "\n",
              "  [theme=dark] .colab-df-quickchart {\n",
              "      --bg-color: #3B4455;\n",
              "      --fill-color: #D2E3FC;\n",
              "      --hover-bg-color: #434B5C;\n",
              "      --hover-fill-color: #FFFFFF;\n",
              "      --disabled-bg-color: #3B4455;\n",
              "      --disabled-fill-color: #666;\n",
              "  }\n",
              "\n",
              "  .colab-df-quickchart {\n",
              "    background-color: var(--bg-color);\n",
              "    border: none;\n",
              "    border-radius: 50%;\n",
              "    cursor: pointer;\n",
              "    display: none;\n",
              "    fill: var(--fill-color);\n",
              "    height: 32px;\n",
              "    padding: 0;\n",
              "    width: 32px;\n",
              "  }\n",
              "\n",
              "  .colab-df-quickchart:hover {\n",
              "    background-color: var(--hover-bg-color);\n",
              "    box-shadow: 0 1px 2px rgba(60, 64, 67, 0.3), 0 1px 3px 1px rgba(60, 64, 67, 0.15);\n",
              "    fill: var(--button-hover-fill-color);\n",
              "  }\n",
              "\n",
              "  .colab-df-quickchart-complete:disabled,\n",
              "  .colab-df-quickchart-complete:disabled:hover {\n",
              "    background-color: var(--disabled-bg-color);\n",
              "    fill: var(--disabled-fill-color);\n",
              "    box-shadow: none;\n",
              "  }\n",
              "\n",
              "  .colab-df-spinner {\n",
              "    border: 2px solid var(--fill-color);\n",
              "    border-color: transparent;\n",
              "    border-bottom-color: var(--fill-color);\n",
              "    animation:\n",
              "      spin 1s steps(1) infinite;\n",
              "  }\n",
              "\n",
              "  @keyframes spin {\n",
              "    0% {\n",
              "      border-color: transparent;\n",
              "      border-bottom-color: var(--fill-color);\n",
              "      border-left-color: var(--fill-color);\n",
              "    }\n",
              "    20% {\n",
              "      border-color: transparent;\n",
              "      border-left-color: var(--fill-color);\n",
              "      border-top-color: var(--fill-color);\n",
              "    }\n",
              "    30% {\n",
              "      border-color: transparent;\n",
              "      border-left-color: var(--fill-color);\n",
              "      border-top-color: var(--fill-color);\n",
              "      border-right-color: var(--fill-color);\n",
              "    }\n",
              "    40% {\n",
              "      border-color: transparent;\n",
              "      border-right-color: var(--fill-color);\n",
              "      border-top-color: var(--fill-color);\n",
              "    }\n",
              "    60% {\n",
              "      border-color: transparent;\n",
              "      border-right-color: var(--fill-color);\n",
              "    }\n",
              "    80% {\n",
              "      border-color: transparent;\n",
              "      border-right-color: var(--fill-color);\n",
              "      border-bottom-color: var(--fill-color);\n",
              "    }\n",
              "    90% {\n",
              "      border-color: transparent;\n",
              "      border-bottom-color: var(--fill-color);\n",
              "    }\n",
              "  }\n",
              "</style>\n",
              "\n",
              "      <script>\n",
              "        async function quickchart(key) {\n",
              "          const quickchartButtonEl =\n",
              "            document.querySelector('#' + key + ' button');\n",
              "          quickchartButtonEl.disabled = true;  // To prevent multiple clicks.\n",
              "          quickchartButtonEl.classList.add('colab-df-spinner');\n",
              "          try {\n",
              "            const charts = await google.colab.kernel.invokeFunction(\n",
              "                'suggestCharts', [key], {});\n",
              "          } catch (error) {\n",
              "            console.error('Error during call to suggestCharts:', error);\n",
              "          }\n",
              "          quickchartButtonEl.classList.remove('colab-df-spinner');\n",
              "          quickchartButtonEl.classList.add('colab-df-quickchart-complete');\n",
              "        }\n",
              "        (() => {\n",
              "          let quickchartButtonEl =\n",
              "            document.querySelector('#df-60152f64-96b3-41ef-8bf5-c96bdc04bf5f button');\n",
              "          quickchartButtonEl.style.display =\n",
              "            google.colab.kernel.accessAllowed ? 'block' : 'none';\n",
              "        })();\n",
              "      </script>\n",
              "    </div>\n",
              "\n",
              "  <div id=\"id_b398571d-4855-445e-bfb7-f9bfe256e31b\">\n",
              "    <style>\n",
              "      .colab-df-generate {\n",
              "        background-color: #E8F0FE;\n",
              "        border: none;\n",
              "        border-radius: 50%;\n",
              "        cursor: pointer;\n",
              "        display: none;\n",
              "        fill: #1967D2;\n",
              "        height: 32px;\n",
              "        padding: 0 0 0 0;\n",
              "        width: 32px;\n",
              "      }\n",
              "\n",
              "      .colab-df-generate:hover {\n",
              "        background-color: #E2EBFA;\n",
              "        box-shadow: 0px 1px 2px rgba(60, 64, 67, 0.3), 0px 1px 3px 1px rgba(60, 64, 67, 0.15);\n",
              "        fill: #174EA6;\n",
              "      }\n",
              "\n",
              "      [theme=dark] .colab-df-generate {\n",
              "        background-color: #3B4455;\n",
              "        fill: #D2E3FC;\n",
              "      }\n",
              "\n",
              "      [theme=dark] .colab-df-generate:hover {\n",
              "        background-color: #434B5C;\n",
              "        box-shadow: 0px 1px 3px 1px rgba(0, 0, 0, 0.15);\n",
              "        filter: drop-shadow(0px 1px 2px rgba(0, 0, 0, 0.3));\n",
              "        fill: #FFFFFF;\n",
              "      }\n",
              "    </style>\n",
              "    <button class=\"colab-df-generate\" onclick=\"generateWithVariable('df')\"\n",
              "            title=\"Generate code using this dataframe.\"\n",
              "            style=\"display:none;\">\n",
              "\n",
              "  <svg xmlns=\"http://www.w3.org/2000/svg\" height=\"24px\"viewBox=\"0 0 24 24\"\n",
              "       width=\"24px\">\n",
              "    <path d=\"M7,19H8.4L18.45,9,17,7.55,7,17.6ZM5,21V16.75L18.45,3.32a2,2,0,0,1,2.83,0l1.4,1.43a1.91,1.91,0,0,1,.58,1.4,1.91,1.91,0,0,1-.58,1.4L9.25,21ZM18.45,9,17,7.55Zm-12,3A5.31,5.31,0,0,0,4.9,8.1,5.31,5.31,0,0,0,1,6.5,5.31,5.31,0,0,0,4.9,4.9,5.31,5.31,0,0,0,6.5,1,5.31,5.31,0,0,0,8.1,4.9,5.31,5.31,0,0,0,12,6.5,5.46,5.46,0,0,0,6.5,12Z\"/>\n",
              "  </svg>\n",
              "    </button>\n",
              "    <script>\n",
              "      (() => {\n",
              "      const buttonEl =\n",
              "        document.querySelector('#id_b398571d-4855-445e-bfb7-f9bfe256e31b button.colab-df-generate');\n",
              "      buttonEl.style.display =\n",
              "        google.colab.kernel.accessAllowed ? 'block' : 'none';\n",
              "\n",
              "      buttonEl.onclick = () => {\n",
              "        google.colab.notebook.generateWithVariable('df');\n",
              "      }\n",
              "      })();\n",
              "    </script>\n",
              "  </div>\n",
              "\n",
              "    </div>\n",
              "  </div>\n"
            ],
            "text/plain": [
              "       class                                              tweet  \\\n",
              "0          2  !!! RT @mayasolovely: As a woman you shouldn't...   \n",
              "1          1  !!!!! RT @mleew17: boy dats cold...tyga dwn ba...   \n",
              "2          1  !!!!!!! RT @UrKindOfBrand Dawg!!!! RT @80sbaby...   \n",
              "3          1  !!!!!!!!! RT @C_G_Anderson: @viva_based she lo...   \n",
              "4          1  !!!!!!!!!!!!! RT @ShenikaRoberts: The shit you...   \n",
              "...      ...                                                ...   \n",
              "24778      1  you's a muthaf***in lie &#8220;@LifeAsKing: @2...   \n",
              "24779      2  you've gone and broke the wrong heart baby, an...   \n",
              "24780      1  young buck wanna eat!!.. dat nigguh like I ain...   \n",
              "24781      1              youu got wild bitches tellin you lies   \n",
              "24782      2  ~~Ruffled | Ntac Eileen Dahlia - Beautiful col...   \n",
              "\n",
              "                                           cleaned_tweet  \n",
              "0      rt woman shouldnt complain clean hous amp man ...  \n",
              "1      rt boy dat coldtyga dwn bad cuffin dat hoe st ...  \n",
              "2       rt dawg rt ever fuck bitch start cri confus shit  \n",
              "3                                    rt look like tranni  \n",
              "4      rt shit hear might true might faker bitch told ya  \n",
              "...                                                  ...  \n",
              "24778  you muthafin lie right tl trash mine bibl scri...  \n",
              "24779  youv gone broke wrong heart babi drove redneck...  \n",
              "24780  young buck wanna eat dat nigguh like aint fuck...  \n",
              "24781                     youu got wild bitch tellin lie  \n",
              "24782  ruffl ntac eileen dahlia beauti color combin p...  \n",
              "\n",
              "[24783 rows x 3 columns]"
            ]
          },
          "execution_count": 18,
          "metadata": {},
          "output_type": "execute_result"
        }
      ],
      "source": [
        "df"
      ]
    },
    {
      "cell_type": "markdown",
      "metadata": {
        "id": "u3FIXghkMDVB"
      },
      "source": [
        "## 3. Train-Test-Split, Vectorization and Oversampling"
      ]
    },
    {
      "cell_type": "code",
      "execution_count": 19,
      "metadata": {
        "id": "NRNGv2ytRLze"
      },
      "outputs": [],
      "source": [
        "# Features and labels\n",
        "X = df['cleaned_tweet']\n",
        "y = df['class']\n",
        "\n",
        "# Stratified train-test split to preserve class distribution\n",
        "X_train, X_test, y_train, y_test = train_test_split(\n",
        "    X, y, test_size=0.2, random_state=42, stratify=y\n",
        ")"
      ]
    },
    {
      "cell_type": "code",
      "execution_count": 20,
      "metadata": {
        "colab": {
          "base_uri": "https://localhost:8080/"
        },
        "id": "WyNqVteYfpeG",
        "outputId": "85175a92-5680-4feb-fbca-2188288e75e5"
      },
      "outputs": [
        {
          "name": "stdout",
          "output_type": "stream",
          "text": [
            "Training Data Shape: (19826,) (19826,)\n",
            "Testing Data Shape: (4957,) (4957,)\n"
          ]
        }
      ],
      "source": [
        "print(\"Training Data Shape:\", X_train.shape, y_train.shape)\n",
        "print(\"Testing Data Shape:\", X_test.shape, y_test.shape)"
      ]
    },
    {
      "cell_type": "code",
      "execution_count": 21,
      "metadata": {
        "id": "CdDtFO8cRxsO"
      },
      "outputs": [],
      "source": [
        "# Initialize the vectorizer\n",
        "vectorizer = CountVectorizer(max_features=5000)\n",
        "\n",
        "# Fit on training data and transform both train and test sets\n",
        "X_train_vec = vectorizer.fit_transform(X_train)\n",
        "X_test_vec = vectorizer.transform(X_test)"
      ]
    },
    {
      "cell_type": "code",
      "execution_count": 22,
      "metadata": {
        "colab": {
          "base_uri": "https://localhost:8080/"
        },
        "id": "2upWvWqhfuwL",
        "outputId": "858b54b1-f237-4f8f-ad41-7d628840517c"
      },
      "outputs": [
        {
          "name": "stdout",
          "output_type": "stream",
          "text": [
            "Training Data Vectorized Shape: (19826, 5000) (19826,)\n",
            "Testing Data Vectorized Shape: (4957, 5000) (4957,)\n"
          ]
        }
      ],
      "source": [
        "print(\"Training Data Vectorized Shape:\", X_train_vec.shape,y_train.shape)\n",
        "print(\"Testing Data Vectorized Shape:\", X_test_vec.shape,y_test.shape)"
      ]
    },
    {
      "cell_type": "code",
      "execution_count": 23,
      "metadata": {
        "colab": {
          "base_uri": "https://localhost:8080/"
        },
        "id": "hWihB0BmR6MD",
        "outputId": "cc950560-21d6-4e42-ecd2-5d54fe7c61f9"
      },
      "outputs": [
        {
          "name": "stdout",
          "output_type": "stream",
          "text": [
            "Before Oversampling:\n",
            "class\n",
            "1    15352\n",
            "2     3330\n",
            "0     1144\n",
            "Name: count, dtype: int64\n",
            "After Oversampling:\n",
            "class\n",
            "1    15352\n",
            "2    15352\n",
            "0    15352\n",
            "Name: count, dtype: int64\n"
          ]
        }
      ],
      "source": [
        "# Apply oversampling to training data\n",
        "ros = RandomOverSampler(random_state=42)\n",
        "X_train_resampled, y_train_resampled = ros.fit_resample(X_train_vec, y_train)\n",
        "\n",
        "# Show class distribution before oversampling\n",
        "print(\"Before Oversampling:\")\n",
        "print(pd.Series(y_train).value_counts())\n",
        "\n",
        "# Show class distribution after oversampling\n",
        "print(\"After Oversampling:\")\n",
        "print(pd.Series(y_train_resampled).value_counts())"
      ]
    },
    {
      "cell_type": "markdown",
      "metadata": {
        "id": "k0QAIDsjMLC8"
      },
      "source": [
        "## 4. Training and Evaluating Machine Learning Models"
      ]
    },
    {
      "cell_type": "code",
      "execution_count": null,
      "metadata": {
        "colab": {
          "background_save": true,
          "base_uri": "https://localhost:8080/"
        },
        "id": "elSQ8S4rdIgc",
        "outputId": "bd948b38-14b9-42dc-bf6c-131c23d53945"
      },
      "outputs": [
        {
          "name": "stdout",
          "output_type": "stream",
          "text": [
            "\n",
            "Training: Logistic Regression\n",
            "\n",
            "Logistic Regression Accuracy: 0.8550\n",
            "Logistic Regression Classification Report:\n",
            "              precision    recall  f1-score   support\n",
            "\n",
            " Hate Speech       0.29      0.55      0.38       286\n",
            "   Offensive       0.95      0.87      0.91      3838\n",
            "     Neither       0.81      0.91      0.86       833\n",
            "\n",
            "    accuracy                           0.85      4957\n",
            "   macro avg       0.69      0.78      0.72      4957\n",
            "weighted avg       0.89      0.85      0.87      4957\n",
            "\n",
            "\n",
            "Training: Naive Bayes\n",
            "\n",
            "Naive Bayes Accuracy: 0.8396\n",
            "Naive Bayes Classification Report:\n",
            "              precision    recall  f1-score   support\n",
            "\n",
            " Hate Speech       0.26      0.53      0.35       286\n",
            "   Offensive       0.95      0.86      0.90      3838\n",
            "     Neither       0.81      0.83      0.82       833\n",
            "\n",
            "    accuracy                           0.84      4957\n",
            "   macro avg       0.67      0.74      0.69      4957\n",
            "weighted avg       0.88      0.84      0.86      4957\n",
            "\n",
            "\n",
            "Training: SVM\n",
            "\n",
            "SVM Accuracy: 0.8465\n",
            "SVM Classification Report:\n",
            "              precision    recall  f1-score   support\n",
            "\n",
            " Hate Speech       0.26      0.52      0.35       286\n",
            "   Offensive       0.95      0.87      0.91      3838\n",
            "     Neither       0.82      0.85      0.84       833\n",
            "\n",
            "    accuracy                           0.85      4957\n",
            "   macro avg       0.68      0.75      0.70      4957\n",
            "weighted avg       0.89      0.85      0.86      4957\n",
            "\n",
            "\n",
            "Training: Voting Ensemble\n",
            "\n",
            "Voting Ensemble Accuracy: 0.8687\n",
            "Voting Ensemble Classification Report:\n",
            "              precision    recall  f1-score   support\n",
            "\n",
            " Hate Speech       0.32      0.53      0.40       286\n",
            "   Offensive       0.95      0.89      0.92      3838\n",
            "     Neither       0.84      0.90      0.87       833\n",
            "\n",
            "    accuracy                           0.87      4957\n",
            "   macro avg       0.70      0.77      0.73      4957\n",
            "weighted avg       0.90      0.87      0.88      4957\n",
            "\n",
            "\n",
            "Training: XGBoost\n",
            "\n",
            "XGBoost Accuracy: 0.8590\n",
            "XGBoost Classification Report:\n",
            "              precision    recall  f1-score   support\n",
            "\n",
            " Hate Speech       0.31      0.63      0.42       286\n",
            "   Offensive       0.97      0.86      0.91      3838\n",
            "     Neither       0.79      0.94      0.86       833\n",
            "\n",
            "    accuracy                           0.86      4957\n",
            "   macro avg       0.69      0.81      0.73      4957\n",
            "weighted avg       0.90      0.86      0.87      4957\n",
            "\n",
            "\n",
            "Summary of Evaluation Metrics:\n",
            "                 Model  Accuracy  Precision    Recall  F1 Score\n",
            "0  Logistic Regression  0.854953   0.891478  0.854953  0.868858\n",
            "1          Naive Bayes  0.839621   0.882689  0.839621  0.856968\n",
            "2                  SVM  0.846480   0.885353  0.846480  0.862244\n",
            "3      Voting Ensemble  0.868671   0.895199  0.868671  0.879248\n",
            "4              XGBoost  0.858987   0.902750  0.858987  0.874029\n"
          ]
        }
      ],
      "source": [
        "# Define all models\n",
        "lr = LogisticRegression(max_iter=1000)\n",
        "nb = MultinomialNB()\n",
        "svm = SVC(kernel='linear', probability=True)\n",
        "voting = VotingClassifier(estimators=[\n",
        "    ('lr', lr), ('nb', nb), ('svm', svm)], voting='soft')\n",
        "xgb = XGBClassifier(use_label_encoder=False, eval_metric='mlogloss')\n",
        "\n",
        "# Model dictionary\n",
        "models = {\n",
        "    'Logistic Regression': lr,\n",
        "    'Naive Bayes': nb,\n",
        "    'SVM': svm,\n",
        "    'Voting Ensemble': voting,\n",
        "    'XGBoost': xgb\n",
        "}\n",
        "\n",
        "# To store evaluation metrics\n",
        "metrics = []\n",
        "\n",
        "# Train and evaluate\n",
        "for name, model in models.items():\n",
        "    print(f\"\\nTraining: {name}\")\n",
        "    model.fit(X_train_resampled, y_train_resampled)\n",
        "    y_pred = model.predict(X_test_vec)\n",
        "\n",
        "    acc = accuracy_score(y_test, y_pred)\n",
        "    precision, recall, f1, _ = precision_recall_fscore_support(y_test, y_pred, average='weighted')\n",
        "\n",
        "    metrics.append({\n",
        "        'Model': name,\n",
        "        'Accuracy': acc,\n",
        "        'Precision': precision,\n",
        "        'Recall': recall,\n",
        "        'F1 Score': f1\n",
        "    })\n",
        "\n",
        "    print(f\"\\n{name} Accuracy: {acc:.4f}\")\n",
        "    print(f\"{name} Classification Report:\")\n",
        "    print(classification_report(y_test, y_pred, target_names=['Hate Speech', 'Offensive', 'Neither']))\n",
        "\n",
        "# Convert to DataFrame for plotting\n",
        "metrics_df = pd.DataFrame(metrics)\n",
        "print(\"\\nSummary of Evaluation Metrics:\")\n",
        "print(metrics_df)"
      ]
    },
    {
      "cell_type": "markdown",
      "metadata": {
        "id": "4hLGT_zrMTQ4"
      },
      "source": [
        "## 5. Comparison of Performance of Machine Learning Models"
      ]
    },
    {
      "cell_type": "code",
      "execution_count": null,
      "metadata": {
        "colab": {
          "base_uri": "https://localhost:8080/",
          "height": 606
        },
        "id": "c-KQwyHddO82",
        "outputId": "81a80217-b598-444a-9e2d-80329d1f63ea"
      },
      "outputs": [
        {
          "data": {
            "image/png": "[encoded data removed]",
            "text/plain": [
              "<Figure size 1200x600 with 1 Axes>"
            ]
          },
          "metadata": {},
          "output_type": "display_data"
        }
      ],
      "source": [
        "# Set figure size and style\n",
        "plt.figure(figsize=(12, 6))\n",
        "metrics_to_plot = ['Accuracy', 'Precision', 'Recall', 'F1 Score']\n",
        "bar_width = 0.18\n",
        "x = range(len(metrics_df))\n",
        "\n",
        "# Plot each metric as a group of bars\n",
        "for i, metric in enumerate(metrics_to_plot):\n",
        "    plt.bar([p + i * bar_width for p in x], metrics_df[metric], width=bar_width, label=metric)\n",
        "\n",
        "# Configure x-axis\n",
        "plt.xticks([p + 1.5 * bar_width for p in x], metrics_df['Model'], rotation=20)\n",
        "plt.xlabel('Model')\n",
        "plt.ylabel('Score')\n",
        "plt.ylim(0, 1)\n",
        "plt.title('Comparison of Model Performance Metrics')\n",
        "plt.legend()\n",
        "plt.tight_layout()\n",
        "plt.grid(axis='y', linestyle='--', alpha=0.7)\n",
        "\n",
        "plt.show()"
      ]
    },
    {
      "cell_type": "markdown",
      "metadata": {
        "id": "z8ihBan1Mdyh"
      },
      "source": [
        "## 6. Preparing Dataset, Training and Evaluating Deep Learning Models"
      ]
    },
    {
      "cell_type": "code",
      "execution_count": 39,
      "metadata": {
        "id": "2utqUnNGG6FE"
      },
      "outputs": [],
      "source": [
        "!pip install torchtext --quiet"
      ]
    },
    {
      "cell_type": "code",
      "execution_count": null,
      "metadata": {
        "id": "zGlCqRWEG3H1"
      },
      "outputs": [],
      "source": [
        "!wget http://nlp.stanford.edu/data/glove.6B.zip -P /content/drive/MyDrive/\n",
        "!unzip /content/drive/MyDrive/glove.6B.zip -d /content/drive/MyDrive/"
      ]
    },
    {
      "cell_type": "code",
      "execution_count": 27,
      "metadata": {
        "colab": {
          "base_uri": "https://localhost:8080/"
        },
        "id": "xtmWKDr7Gusm",
        "outputId": "630be2dd-0349-488c-d430-e090ca487ed0"
      },
      "outputs": [
        {
          "name": "stdout",
          "output_type": "stream",
          "text": [
            "Before Oversampling (Text Data):\n",
            "class\n",
            "1    15352\n",
            "2     3330\n",
            "0     1144\n",
            "Name: count, dtype: int64\n",
            "\n",
            "After Oversampling (Text Data):\n",
            "class\n",
            "1    15352\n",
            "2    15352\n",
            "0    15352\n",
            "Name: count, dtype: int64\n"
          ]
        }
      ],
      "source": [
        "from imblearn.over_sampling import RandomOverSampler\n",
        "import pandas as pd\n",
        "\n",
        "# Apply oversampling to text data (X_train, y_train)\n",
        "ros = RandomOverSampler(random_state=42)\n",
        "# Reshape X_train to 2D array for oversampling\n",
        "X_train_reshaped = X_train.values.reshape(-1, 1)\n",
        "X_train_resampled_text, y_train_resampled = ros.fit_resample(X_train_reshaped, y_train)\n",
        "\n",
        "# Convert back to Series for consistency\n",
        "X_train_resampled_text = pd.Series(X_train_resampled_text.flatten(), name='cleaned_tweet')\n",
        "y_train_resampled = pd.Series(y_train_resampled, name='class')\n",
        "\n",
        "# Show class distribution before and after oversampling\n",
        "print(\"Before Oversampling (Text Data):\")\n",
        "print(pd.Series(y_train).value_counts())\n",
        "print(\"\\nAfter Oversampling (Text Data):\")\n",
        "print(pd.Series(y_train_resampled).value_counts())"
      ]
    },
    {
      "cell_type": "markdown",
      "metadata": {
        "id": "q9fewGBCMnD1"
      },
      "source": [
        "### 6.1. LSTM (Long Short Term Memory)"
      ]
    },
    {
      "cell_type": "code",
      "execution_count": 28,
      "metadata": {
        "id": "Kf9tVH5_GvQs"
      },
      "outputs": [],
      "source": [
        "import os\n",
        "\n",
        "# Define PyTorch Dataset for LSTM\n",
        "class TweetDataset(Dataset):\n",
        "    def __init__(self, texts, labels, vocab, max_len=50):\n",
        "        self.texts = texts\n",
        "        self.labels = labels\n",
        "        self.vocab = vocab\n",
        "        self.max_len = max_len\n",
        "\n",
        "    def __len__(self):\n",
        "        return len(self.texts)\n",
        "\n",
        "    def __getitem__(self, idx):\n",
        "        text = self.texts.iloc[idx] if hasattr(self.texts, 'iloc') else self.texts[idx]\n",
        "        label = self.labels.iloc[idx] if hasattr(self.labels, 'iloc') else self.labels[idx]\n",
        "        tokens = text.split()[:self.max_len]\n",
        "        indices = [self.vocab.get(token, self.vocab['<unk>']) for token in tokens]\n",
        "        indices = indices + [0] * (self.max_len - len(indices))  # Padding\n",
        "        return torch.tensor(indices, dtype=torch.long), torch.tensor(label, dtype=torch.long)"
      ]
    },
    {
      "cell_type": "code",
      "execution_count": 29,
      "metadata": {
        "id": "VrxQNdkdHK7V"
      },
      "outputs": [],
      "source": [
        "# Function to load GloVe embeddings manually\n",
        "def load_glove_embeddings(glove_path, vocab, embed_dim=100):\n",
        "    embedding_matrix = torch.zeros((len(vocab), embed_dim))\n",
        "    if not os.path.exists(glove_path):\n",
        "        raise FileNotFoundError(f\"GloVe file not found at {glove_path}. Please download glove.6B.100d.txt.\")\n",
        "    with open(glove_path, 'r', encoding='utf-8') as f:\n",
        "        for line in f:\n",
        "            parts = line.strip().split()\n",
        "            word = parts[0]\n",
        "            if word in vocab:\n",
        "                vector = torch.tensor([float(x) for x in parts[1:]], dtype=torch.float)\n",
        "                embedding_matrix[vocab[word]] = vector\n",
        "    return embedding_matrix\n",
        "\n",
        "# Build vocabulary\n",
        "def build_vocab(texts):\n",
        "    counter = Counter()\n",
        "    for text in texts:\n",
        "        counter.update(text.split())\n",
        "    vocab = {word: idx+2 for idx, (word, _) in enumerate(counter.most_common())}\n",
        "    vocab['<pad>'] = 0\n",
        "    vocab['<unk>'] = 1\n",
        "    return vocab"
      ]
    },
    {
      "cell_type": "code",
      "execution_count": 30,
      "metadata": {
        "colab": {
          "base_uri": "https://localhost:8080/"
        },
        "id": "XGzZnhDTHnpm",
        "outputId": "055faf0f-6688-4d73-834a-46b0cea33e29"
      },
      "outputs": [
        {
          "name": "stdout",
          "output_type": "stream",
          "text": [
            "LSTM Data Preparation Complete\n",
            "Vocabulary Size: 15059\n",
            "Embedding Matrix Shape: torch.Size([15059, 100])\n",
            "Train Loader Size: 1440 batches\n",
            "Test Loader Size: 155 batches\n"
          ]
        }
      ],
      "source": [
        "# Prepare data\n",
        "glove_path = '/content/drive/MyDrive/glove.6B.100d.txt'\n",
        "vocab = build_vocab(X_train_resampled_text)\n",
        "embedding_matrix = load_glove_embeddings(glove_path, vocab, embed_dim=100)\n",
        "train_dataset = TweetDataset(X_train_resampled_text, y_train_resampled, vocab, max_len=50)\n",
        "test_dataset = TweetDataset(X_test, y_test, vocab, max_len=50)\n",
        "train_loader = DataLoader(train_dataset, batch_size=32, shuffle=True)\n",
        "test_loader = DataLoader(test_dataset, batch_size=32)\n",
        "\n",
        "print(\"LSTM Data Preparation Complete\")\n",
        "print(f\"Vocabulary Size: {len(vocab)}\")\n",
        "print(f\"Embedding Matrix Shape: {embedding_matrix.shape}\")\n",
        "print(f\"Train Loader Size: {len(train_loader)} batches\")\n",
        "print(f\"Test Loader Size: {len(test_loader)} batches\")"
      ]
    },
    {
      "cell_type": "code",
      "execution_count": 31,
      "metadata": {
        "id": "YOk9wbcBHoTW"
      },
      "outputs": [],
      "source": [
        "class LSTMClassifier(nn.Module):\n",
        "    def __init__(self, vocab_size, embed_dim, hidden_dim, num_classes, num_layers=1, dropout=0.3):\n",
        "        super(LSTMClassifier, self).__init__()\n",
        "        self.embedding = nn.Embedding(vocab_size, embed_dim)\n",
        "        self.lstm = nn.LSTM(embed_dim, hidden_dim, num_layers, batch_first=True, bidirectional=True, dropout=dropout if num_layers > 1 else 0)\n",
        "        self.fc = nn.Linear(hidden_dim * 2, num_classes)\n",
        "        self.dropout = nn.Dropout(dropout)\n",
        "\n",
        "    def forward(self, x):\n",
        "        embedded = self.embedding(x)\n",
        "        output, (hidden, _) = self.lstm(embedded)\n",
        "        hidden = torch.cat((hidden[-2], hidden[-1]), dim=1)\n",
        "        return self.fc(self.dropout(hidden))\n",
        "\n",
        "# Training function\n",
        "def train_model(model, train_loader, criterion, optimizer, device, epochs=5):\n",
        "    model = model.to(device)\n",
        "    best_f1 = 0\n",
        "    for epoch in range(epochs):\n",
        "        model.train()\n",
        "        train_loss = 0\n",
        "        for inputs, labels in train_loader:\n",
        "            inputs, labels = inputs.to(device), labels.to(device)\n",
        "            optimizer.zero_grad()\n",
        "            outputs = model(inputs)\n",
        "            loss = criterion(outputs, labels)\n",
        "            loss.backward()\n",
        "            optimizer.step()\n",
        "            train_loss += loss.item()\n",
        "        print(f\"LSTM Epoch {epoch+1}, Train Loss: {train_loss/len(train_loader):.4f}\")\n",
        "        # Validation on training data (for simplicity)\n",
        "        model.eval()\n",
        "        val_preds, val_labels = [], []\n",
        "        with torch.no_grad():\n",
        "            for inputs, labels in train_loader:\n",
        "                inputs, labels = inputs.to(device), labels.to(device)\n",
        "                outputs = model(inputs)\n",
        "                preds = torch.argmax(outputs, dim=1)\n",
        "                val_preds.extend(preds.cpu().numpy())\n",
        "                val_labels.extend(labels.cpu().numpy())\n",
        "        f1 = f1_score(val_labels, val_preds, average='weighted')\n",
        "        print(f\"LSTM Validation F1: {f1:.4f}\")\n",
        "        if f1 > best_f1:\n",
        "            best_f1 = f1\n",
        "            torch.save(model.state_dict(), '/content/drive/MyDrive/lstm_model.pt')\n"
      ]
    },
    {
      "cell_type": "code",
      "execution_count": 32,
      "metadata": {
        "id": "BW-5KDvWH2MF"
      },
      "outputs": [],
      "source": [
        "# Evaluation function\n",
        "def evaluate_model(model, test_loader, device, model_name):\n",
        "    model.eval()\n",
        "    preds, true_labels = [], []\n",
        "    with torch.no_grad():\n",
        "        for inputs, labels in test_loader:\n",
        "            inputs, labels = inputs.to(device), labels.to(device)\n",
        "            outputs = model(inputs)\n",
        "            batch_preds = torch.argmax(outputs, dim=1)\n",
        "            preds.extend(batch_preds.cpu().numpy())\n",
        "            true_labels.extend(labels.cpu().numpy())\n",
        "    acc = accuracy_score(true_labels, preds)\n",
        "    precision, recall, f1, _ = precision_recall_fscore_support(true_labels, preds, average='weighted')\n",
        "    print(f\"\\n{model_name} Test Results:\")\n",
        "    print(f\"Accuracy: {acc:.4f}\")\n",
        "    print(f\"Precision: {precision:.4f}\")\n",
        "    print(f\"Recall: {recall:.4f}\")\n",
        "    print(f\"F1 Score: {f1:.4f}\")\n",
        "    print(f\"Classification Report:\\n{classification_report(true_labels, preds, target_names=['Hate Speech', 'Offensive', 'Neither'])}\")\n",
        "    return {'Model': model_name, 'Accuracy': acc, 'Precision': precision, 'Recall': recall, 'F1 Score': f1}"
      ]
    },
    {
      "cell_type": "code",
      "execution_count": 35,
      "metadata": {
        "colab": {
          "base_uri": "https://localhost:8080/"
        },
        "id": "Vp6tNej6H4k7",
        "outputId": "e62d695e-c7c2-4110-e5f2-17712390ba16"
      },
      "outputs": [
        {
          "name": "stdout",
          "output_type": "stream",
          "text": [
            "LSTM Epoch 1, Train Loss: 0.5475\n",
            "LSTM Validation F1: 0.8501\n",
            "LSTM Epoch 2, Train Loss: 0.3336\n",
            "LSTM Validation F1: 0.9149\n",
            "LSTM Epoch 3, Train Loss: 0.2225\n",
            "LSTM Validation F1: 0.9416\n",
            "LSTM Epoch 4, Train Loss: 0.1609\n",
            "LSTM Validation F1: 0.9646\n",
            "LSTM Epoch 5, Train Loss: 0.1183\n",
            "LSTM Validation F1: 0.9721\n",
            "LSTM Epoch 6, Train Loss: 0.0946\n",
            "LSTM Validation F1: 0.9796\n",
            "LSTM Epoch 7, Train Loss: 0.0725\n",
            "LSTM Validation F1: 0.9860\n",
            "LSTM Epoch 8, Train Loss: 0.0629\n",
            "LSTM Validation F1: 0.9887\n",
            "LSTM Epoch 9, Train Loss: 0.0540\n",
            "LSTM Validation F1: 0.9872\n",
            "LSTM Epoch 10, Train Loss: 0.0473\n",
            "LSTM Validation F1: 0.9912\n",
            "LSTM Epoch 11, Train Loss: 0.0400\n",
            "LSTM Validation F1: 0.9909\n",
            "LSTM Epoch 12, Train Loss: 0.0399\n",
            "LSTM Validation F1: 0.9914\n",
            "LSTM Epoch 13, Train Loss: 0.0340\n",
            "LSTM Validation F1: 0.9921\n",
            "LSTM Epoch 14, Train Loss: 0.0317\n",
            "LSTM Validation F1: 0.9947\n",
            "LSTM Epoch 15, Train Loss: 0.0359\n",
            "LSTM Validation F1: 0.9923\n",
            "LSTM Epoch 16, Train Loss: 0.0247\n",
            "LSTM Validation F1: 0.9922\n",
            "LSTM Epoch 17, Train Loss: 0.0301\n",
            "LSTM Validation F1: 0.9912\n",
            "LSTM Epoch 18, Train Loss: 0.0282\n",
            "LSTM Validation F1: 0.9935\n",
            "LSTM Epoch 19, Train Loss: 0.0259\n",
            "LSTM Validation F1: 0.9937\n",
            "LSTM Epoch 20, Train Loss: 0.0244\n",
            "LSTM Validation F1: 0.9932\n",
            "\n",
            "LSTM Test Results:\n",
            "Accuracy: 0.8564\n",
            "Precision: 0.8530\n",
            "Recall: 0.8564\n",
            "F1 Score: 0.8545\n",
            "Classification Report:\n",
            "              precision    recall  f1-score   support\n",
            "\n",
            " Hate Speech       0.35      0.33      0.34       286\n",
            "   Offensive       0.91      0.92      0.91      3838\n",
            "     Neither       0.78      0.74      0.76       833\n",
            "\n",
            "    accuracy                           0.86      4957\n",
            "   macro avg       0.68      0.66      0.67      4957\n",
            "weighted avg       0.85      0.86      0.85      4957\n",
            "\n",
            "LSTM Training and Evaluation Complete\n"
          ]
        }
      ],
      "source": [
        "# Main execution for LSTM\n",
        "device = torch.device('cuda' if torch.cuda.is_available() else 'cpu')\n",
        "lstm_model = LSTMClassifier(vocab_size=len(vocab), embed_dim=100, hidden_dim=128, num_classes=3).to(device)\n",
        "lstm_model.embedding.weight.data.copy_(embedding_matrix)\n",
        "lstm_model.embedding.weight.requires_grad = False\n",
        "criterion = nn.CrossEntropyLoss()\n",
        "optimizer = optim.Adam(lstm_model.parameters(), lr=1e-3)\n",
        "\n",
        "# Train and evaluate\n",
        "train_model(lstm_model, train_loader, criterion, optimizer, device, epochs=20)\n",
        "lstm_metrics = evaluate_model(lstm_model, test_loader, device, 'LSTM')\n",
        "metrics = []\n",
        "metrics.append(lstm_metrics)\n",
        "\n",
        "print(\"LSTM Training and Evaluation Complete\")"
      ]
    },
    {
      "cell_type": "markdown",
      "metadata": {
        "id": "EeRXBaUXMzib"
      },
      "source": [
        "### 6.2. GRU (Gated Recurrent Units)"
      ]
    },
    {
      "cell_type": "code",
      "execution_count": 36,
      "metadata": {
        "id": "jrAVTl4tItZE"
      },
      "outputs": [],
      "source": [
        "# Define GRU Model\n",
        "class GRUClassifier(nn.Module):\n",
        "    def __init__(self, vocab_size, embed_dim, hidden_dim, num_classes, num_layers=1, dropout=0.3):\n",
        "        super(GRUClassifier, self).__init__()\n",
        "        self.embedding = nn.Embedding(vocab_size, embed_dim)\n",
        "        self.gru = nn.GRU(embed_dim, hidden_dim, num_layers, batch_first=True, bidirectional=True, dropout=dropout if num_layers > 1 else 0)\n",
        "        self.fc = nn.Linear(hidden_dim * 2, num_classes)\n",
        "        self.dropout = nn.Dropout(dropout)\n",
        "\n",
        "    def forward(self, x):\n",
        "        embedded = self.embedding(x)\n",
        "        output, hidden = self.gru(embedded)\n",
        "        hidden = torch.cat((hidden[-2], hidden[-1]), dim=1)\n",
        "        return self.fc(self.dropout(hidden))\n",
        "\n",
        "# Training function\n",
        "def train_model(model, train_loader, criterion, optimizer, device, epochs=5):\n",
        "    model = model.to(device)\n",
        "    best_f1 = 0\n",
        "    for epoch in range(epochs):\n",
        "        model.train()\n",
        "        train_loss = 0\n",
        "        for inputs, labels in train_loader:\n",
        "            inputs, labels = inputs.to(device), labels.to(device)\n",
        "            optimizer.zero_grad()\n",
        "            outputs = model(inputs)\n",
        "            loss = criterion(outputs, labels)\n",
        "            loss.backward()\n",
        "            optimizer.step()\n",
        "            train_loss += loss.item()\n",
        "        print(f\"GRU Epoch {epoch+1}, Train Loss: {train_loss/len(train_loader):.4f}\")\n",
        "        model.eval()\n",
        "        val_preds, val_labels = [], []\n",
        "        with torch.no_grad():\n",
        "            for inputs, labels in train_loader:\n",
        "                inputs, labels = inputs.to(device), labels.to(device)\n",
        "                outputs = model(inputs)\n",
        "                preds = torch.argmax(outputs, dim=1)\n",
        "                val_preds.extend(preds.cpu().numpy())\n",
        "                val_labels.extend(labels.cpu().numpy())\n",
        "        f1 = f1_score(val_labels, val_preds, average='weighted')\n",
        "        print(f\"GRU Validation F1: {f1:.4f}\")\n",
        "        if f1 > best_f1:\n",
        "            best_f1 = f1\n",
        "            torch.save(model.state_dict(), '/content/drive/MyDrive/gru_model.pt')"
      ]
    },
    {
      "cell_type": "code",
      "execution_count": 37,
      "metadata": {
        "id": "OqE06HocJveT"
      },
      "outputs": [],
      "source": [
        "# Evaluation function\n",
        "def evaluate_model(model, test_loader, device, model_name):\n",
        "    model.eval()\n",
        "    preds, true_labels = [], []\n",
        "    with torch.no_grad():\n",
        "        for inputs, labels in test_loader:\n",
        "            inputs, labels = inputs.to(device), labels.to(device)\n",
        "            outputs = model(inputs)\n",
        "            batch_preds = torch.argmax(outputs, dim=1)\n",
        "            preds.extend(batch_preds.cpu().numpy())\n",
        "            true_labels.extend(labels.cpu().numpy())\n",
        "    acc = accuracy_score(true_labels, preds)\n",
        "    precision, recall, f1, _ = precision_recall_fscore_support(true_labels, preds, average='weighted')\n",
        "    print(f\"\\n{model_name} Test Results:\")\n",
        "    print(f\"Accuracy: {acc:.4f}\")\n",
        "    print(f\"Precision: {precision:.4f}\")\n",
        "    print(f\"Recall: {recall:.4f}\")\n",
        "    print(f\"F1 Score: {f1:.4f}\")\n",
        "    print(f\"Classification Report:\\n{classification_report(true_labels, preds, target_names=['Hate Speech', 'Offensive', 'Neither'])}\")\n",
        "    return {'Model': model_name, 'Accuracy': acc, 'Precision': precision, 'Recall': recall, 'F1 Score': f1}"
      ]
    },
    {
      "cell_type": "code",
      "execution_count": 39,
      "metadata": {
        "colab": {
          "base_uri": "https://localhost:8080/"
        },
        "id": "9DpnO0IQJxJR",
        "outputId": "9b25cd07-c7a9-4698-d1bd-e51dd7b825ec"
      },
      "outputs": [
        {
          "name": "stdout",
          "output_type": "stream",
          "text": [
            "GRU Epoch 1, Train Loss: 0.5294\n",
            "GRU Validation F1: 0.8209\n",
            "GRU Epoch 2, Train Loss: 0.3168\n",
            "GRU Validation F1: 0.9239\n",
            "GRU Epoch 3, Train Loss: 0.2003\n",
            "GRU Validation F1: 0.9564\n",
            "GRU Epoch 4, Train Loss: 0.1427\n",
            "GRU Validation F1: 0.9721\n",
            "GRU Epoch 5, Train Loss: 0.1040\n",
            "GRU Validation F1: 0.9781\n",
            "GRU Epoch 6, Train Loss: 0.0807\n",
            "GRU Validation F1: 0.9805\n",
            "GRU Epoch 7, Train Loss: 0.0657\n",
            "GRU Validation F1: 0.9870\n",
            "GRU Epoch 8, Train Loss: 0.0539\n",
            "GRU Validation F1: 0.9902\n",
            "GRU Epoch 9, Train Loss: 0.0487\n",
            "GRU Validation F1: 0.9899\n",
            "GRU Epoch 10, Train Loss: 0.0456\n",
            "GRU Validation F1: 0.9913\n",
            "GRU Epoch 11, Train Loss: 0.0426\n",
            "GRU Validation F1: 0.9925\n",
            "GRU Epoch 12, Train Loss: 0.0393\n",
            "GRU Validation F1: 0.9903\n",
            "GRU Epoch 13, Train Loss: 0.0340\n",
            "GRU Validation F1: 0.9929\n",
            "GRU Epoch 14, Train Loss: 0.0346\n",
            "GRU Validation F1: 0.9923\n",
            "GRU Epoch 15, Train Loss: 0.0340\n",
            "GRU Validation F1: 0.9884\n",
            "GRU Epoch 16, Train Loss: 0.0325\n",
            "GRU Validation F1: 0.9936\n",
            "GRU Epoch 17, Train Loss: 0.0320\n",
            "GRU Validation F1: 0.9916\n",
            "GRU Epoch 18, Train Loss: 0.0286\n",
            "GRU Validation F1: 0.9944\n",
            "GRU Epoch 19, Train Loss: 0.0275\n",
            "GRU Validation F1: 0.9933\n",
            "GRU Epoch 20, Train Loss: 0.0306\n",
            "GRU Validation F1: 0.9943\n",
            "\n",
            "GRU Test Results:\n",
            "Accuracy: 0.8570\n",
            "Precision: 0.8543\n",
            "Recall: 0.8570\n",
            "F1 Score: 0.8550\n",
            "Classification Report:\n",
            "              precision    recall  f1-score   support\n",
            "\n",
            " Hate Speech       0.40      0.32      0.36       286\n",
            "   Offensive       0.92      0.91      0.91      3838\n",
            "     Neither       0.73      0.80      0.76       833\n",
            "\n",
            "    accuracy                           0.86      4957\n",
            "   macro avg       0.68      0.68      0.68      4957\n",
            "weighted avg       0.85      0.86      0.86      4957\n",
            "\n",
            "GRU Training and Evaluation Complete\n"
          ]
        }
      ],
      "source": [
        "# Main execution for GRU\n",
        "device = torch.device('cuda' if torch.cuda.is_available() else 'cpu')\n",
        "gru_model = GRUClassifier(vocab_size=len(vocab), embed_dim=100, hidden_dim=128, num_classes=3).to(device)\n",
        "gru_model.embedding.weight.data.copy_(embedding_matrix)\n",
        "gru_model.embedding.weight.requires_grad = False\n",
        "criterion = nn.CrossEntropyLoss()\n",
        "optimizer = optim.Adam(gru_model.parameters(), lr=1e-3)\n",
        "\n",
        "# Train and evaluate\n",
        "train_model(gru_model, train_loader, criterion, optimizer, device, epochs=20)\n",
        "gru_metrics = evaluate_model(gru_model, test_loader, device, 'GRU')\n",
        "metrics.append(gru_metrics)\n",
        "\n",
        "print(\"GRU Training and Evaluation Complete\")"
      ]
    },
    {
      "cell_type": "markdown",
      "metadata": {
        "id": "0zQyqFcxM5FK"
      },
      "source": [
        "### 6.3. CNN (Convolutional Neural Networks)"
      ]
    },
    {
      "cell_type": "code",
      "execution_count": 41,
      "metadata": {
        "id": "Fccci11LJyPR"
      },
      "outputs": [],
      "source": [
        "# Define CNN Model\n",
        "class CNNClassifier(nn.Module):\n",
        "    def __init__(self, vocab_size, embed_dim, num_filters, filter_sizes, num_classes, dropout=0.3):\n",
        "        super(CNNClassifier, self).__init__()\n",
        "        self.embedding = nn.Embedding(vocab_size, embed_dim)\n",
        "        # 1D convolutional layers for different filter sizes\n",
        "        self.convs = nn.ModuleList([\n",
        "            nn.Conv1d(in_channels=embed_dim, out_channels=num_filters, kernel_size=fs)\n",
        "            for fs in filter_sizes\n",
        "        ])\n",
        "        self.fc = nn.Linear(len(filter_sizes) * num_filters, num_classes)\n",
        "        self.dropout = nn.Dropout(dropout)\n",
        "        self.relu = nn.ReLU()\n",
        "\n",
        "    def forward(self, x):\n",
        "        embedded = self.embedding(x)  # [batch_size, seq_len, embed_dim]\n",
        "        embedded = embedded.permute(0, 2, 1)  # [batch_size, embed_dim, seq_len]\n",
        "        # Apply convolutions and max-pooling\n",
        "        conved = [self.relu(conv(embedded)) for conv in self.convs]\n",
        "        pooled = [torch.max(conv, dim=2)[0] for conv in conved]  # Max-over-time pooling\n",
        "        cat = self.dropout(torch.cat(pooled, dim=1))  # Concatenate pooled features\n",
        "        return self.fc(cat)\n",
        "\n",
        "# Training function\n",
        "def train_model(model, train_loader, criterion, optimizer, device, epochs=5):\n",
        "    model = model.to(device)\n",
        "    best_f1 = 0\n",
        "    for epoch in range(epochs):\n",
        "        model.train()\n",
        "        train_loss = 0\n",
        "        for inputs, labels in train_loader:\n",
        "            inputs, labels = inputs.to(device), labels.to(device)\n",
        "            optimizer.zero_grad()\n",
        "            outputs = model(inputs)\n",
        "            loss = criterion(outputs, labels)\n",
        "            loss.backward()\n",
        "            optimizer.step()\n",
        "            train_loss += loss.item()\n",
        "        print(f\"CNN Epoch {epoch+1}, Train Loss: {train_loss/len(train_loader):.4f}\")\n",
        "        model.eval()\n",
        "        val_preds, val_labels = [], []\n",
        "        with torch.no_grad():\n",
        "            for inputs, labels in train_loader:\n",
        "                inputs, labels = inputs.to(device), labels.to(device)\n",
        "                outputs = model(inputs)\n",
        "                preds = torch.argmax(outputs, dim=1)\n",
        "                val_preds.extend(preds.cpu().numpy())\n",
        "                val_labels.extend(labels.cpu().numpy())\n",
        "        f1 = f1_score(val_labels, val_preds, average='weighted')\n",
        "        print(f\"CNN Validation F1: {f1:.4f}\")\n",
        "        if f1 > best_f1:\n",
        "            best_f1 = f1\n",
        "            torch.save(model.state_dict(), '/content/drive/MyDrive/cnn_model.pt')"
      ]
    },
    {
      "cell_type": "code",
      "execution_count": 42,
      "metadata": {
        "id": "G1MBsWaNLCbn"
      },
      "outputs": [],
      "source": [
        "# Evaluation function\n",
        "def evaluate_model(model, test_loader, device, model_name):\n",
        "    model.eval()\n",
        "    preds, true_labels = [], []\n",
        "    with torch.no_grad():\n",
        "        for inputs, labels in test_loader:\n",
        "            inputs, labels = inputs.to(device), labels.to(device)\n",
        "            outputs = model(inputs)\n",
        "            batch_preds = torch.argmax(outputs, dim=1)\n",
        "            preds.extend(batch_preds.cpu().numpy())\n",
        "            true_labels.extend(labels.cpu().numpy())\n",
        "    acc = accuracy_score(true_labels, preds)\n",
        "    precision, recall, f1, _ = precision_recall_fscore_support(true_labels, preds, average='weighted')\n",
        "    print(f\"\\n{model_name} Test Results:\")\n",
        "    print(f\"Accuracy: {acc:.4f}\")\n",
        "    print(f\"Precision: {precision:.4f}\")\n",
        "    print(f\"Recall: {recall:.4f}\")\n",
        "    print(f\"F1 Score: {f1:.4f}\")\n",
        "    print(f\"Classification Report:\\n{classification_report(true_labels, preds, target_names=['Hate Speech', 'Offensive', 'Neither'])}\")\n",
        "    return {'Model': model_name, 'Accuracy': acc, 'Precision': precision, 'Recall': recall, 'F1 Score': f1}"
      ]
    },
    {
      "cell_type": "code",
      "execution_count": 43,
      "metadata": {
        "colab": {
          "base_uri": "https://localhost:8080/"
        },
        "id": "b6JloQoZLE79",
        "outputId": "9f20115a-2482-47f3-ab9d-39cd6e592636"
      },
      "outputs": [
        {
          "name": "stdout",
          "output_type": "stream",
          "text": [
            "CNN Epoch 1, Train Loss: 0.4266\n",
            "CNN Validation F1: 0.9245\n",
            "CNN Epoch 2, Train Loss: 0.2278\n",
            "CNN Validation F1: 0.9607\n",
            "CNN Epoch 3, Train Loss: 0.1675\n",
            "CNN Validation F1: 0.9690\n",
            "CNN Epoch 4, Train Loss: 0.1342\n",
            "CNN Validation F1: 0.9798\n",
            "CNN Epoch 5, Train Loss: 0.1138\n",
            "CNN Validation F1: 0.9853\n",
            "CNN Epoch 6, Train Loss: 0.1025\n",
            "CNN Validation F1: 0.9870\n",
            "CNN Epoch 7, Train Loss: 0.0926\n",
            "CNN Validation F1: 0.9866\n",
            "CNN Epoch 8, Train Loss: 0.0852\n",
            "CNN Validation F1: 0.9899\n",
            "CNN Epoch 9, Train Loss: 0.0769\n",
            "CNN Validation F1: 0.9914\n",
            "CNN Epoch 10, Train Loss: 0.0744\n",
            "CNN Validation F1: 0.9894\n",
            "CNN Epoch 11, Train Loss: 0.0711\n",
            "CNN Validation F1: 0.9907\n",
            "CNN Epoch 12, Train Loss: 0.0682\n",
            "CNN Validation F1: 0.9910\n",
            "CNN Epoch 13, Train Loss: 0.0664\n",
            "CNN Validation F1: 0.9919\n",
            "CNN Epoch 14, Train Loss: 0.0657\n",
            "CNN Validation F1: 0.9925\n",
            "CNN Epoch 15, Train Loss: 0.0585\n",
            "CNN Validation F1: 0.9902\n",
            "CNN Epoch 16, Train Loss: 0.0596\n",
            "CNN Validation F1: 0.9937\n",
            "CNN Epoch 17, Train Loss: 0.0577\n",
            "CNN Validation F1: 0.9930\n",
            "CNN Epoch 18, Train Loss: 0.0549\n",
            "CNN Validation F1: 0.9940\n",
            "CNN Epoch 19, Train Loss: 0.0533\n",
            "CNN Validation F1: 0.9940\n",
            "CNN Epoch 20, Train Loss: 0.0559\n",
            "CNN Validation F1: 0.9927\n",
            "\n",
            "CNN Test Results:\n",
            "Accuracy: 0.8545\n",
            "Precision: 0.8582\n",
            "Recall: 0.8545\n",
            "F1 Score: 0.8560\n",
            "Classification Report:\n",
            "              precision    recall  f1-score   support\n",
            "\n",
            " Hate Speech       0.38      0.39      0.38       286\n",
            "   Offensive       0.92      0.90      0.91      3838\n",
            "     Neither       0.73      0.80      0.77       833\n",
            "\n",
            "    accuracy                           0.85      4957\n",
            "   macro avg       0.68      0.70      0.69      4957\n",
            "weighted avg       0.86      0.85      0.86      4957\n",
            "\n",
            "CNN Training and Evaluation Complete\n"
          ]
        }
      ],
      "source": [
        "# Main execution for CNN\n",
        "device = torch.device('cuda' if torch.cuda.is_available() else 'cpu')\n",
        "cnn_model = CNNClassifier(\n",
        "    vocab_size=len(vocab),\n",
        "    embed_dim=100,\n",
        "    num_filters=100,\n",
        "    filter_sizes=[2, 3, 4],\n",
        "    num_classes=3,\n",
        "    dropout=0.3\n",
        ").to(device)\n",
        "cnn_model.embedding.weight.data.copy_(embedding_matrix)\n",
        "cnn_model.embedding.weight.requires_grad = False  # Freeze embeddings\n",
        "criterion = nn.CrossEntropyLoss()\n",
        "optimizer = optim.Adam(cnn_model.parameters(), lr=1e-3)\n",
        "\n",
        "# Train and evaluate\n",
        "train_model(cnn_model, train_loader, criterion, optimizer, device, epochs=20)\n",
        "cnn_metrics = evaluate_model(cnn_model, test_loader, device, 'CNN')\n",
        "metrics.append(cnn_metrics)\n",
        "\n",
        "print(\"CNN Training and Evaluation Complete\")"
      ]
    },
    {
      "cell_type": "markdown",
      "metadata": {
        "id": "oGhx-FA1OUyP"
      },
      "source": [
        "## 7. Comparison of Performance of Deep Learning Models"
      ]
    },
    {
      "cell_type": "code",
      "execution_count": 51,
      "metadata": {
        "colab": {
          "base_uri": "https://localhost:8080/"
        },
        "id": "jNOv7BbxNvQj",
        "outputId": "eea81069-8f9c-428d-e775-06e91fad4f86"
      },
      "outputs": [
        {
          "name": "stdout",
          "output_type": "stream",
          "text": [
            "\n",
            "Evaluation Metrics for All Models (Sorted by F1 Score):\n",
            "------------------------------------------------------------\n",
            "Model  Accuracy  Precision  Recall  F1 Score\n",
            "  CNN    0.8545     0.8582  0.8545    0.8560\n",
            "  GRU    0.8570     0.8543  0.8570    0.8550\n",
            " LSTM    0.8564     0.8530  0.8564    0.8545\n",
            "------------------------------------------------------------\n"
          ]
        }
      ],
      "source": [
        "metrics_df = pd.DataFrame(metrics)\n",
        "\n",
        "metrics_df = metrics_df.sort_values(by='F1 Score', ascending=False)\n",
        "\n",
        "metrics_df[['Accuracy', 'Precision', 'Recall', 'F1 Score']] = metrics_df[['Accuracy', 'Precision', 'Recall', 'F1 Score']].round(4)\n",
        "\n",
        "print(\"\\nEvaluation Metrics for All Models (Sorted by F1 Score):\")\n",
        "print(\"-\" * 60)\n",
        "print(metrics_df[['Model', 'Accuracy', 'Precision', 'Recall', 'F1 Score']].to_string(index=False))\n",
        "print(\"-\" * 60)"
      ]
    },
    {
      "cell_type": "code",
      "execution_count": 52,
      "metadata": {
        "colab": {
          "base_uri": "https://localhost:8080/",
          "height": 606
        },
        "id": "xHHaehcFOcVz",
        "outputId": "3ea77fd1-09ff-4729-f62a-7a6a079371ee"
      },
      "outputs": [
        {
          "data": {
            "image/png": "[encoded data removed]",
            "text/plain": [
              "<Figure size 1400x700 with 1 Axes>"
            ]
          },
          "metadata": {},
          "output_type": "display_data"
        }
      ],
      "source": [
        "metrics_df = pd.DataFrame(metrics)\n",
        "\n",
        "# Plot metrics\n",
        "plt.figure(figsize=(14, 7))\n",
        "metrics_to_plot = ['Accuracy', 'Precision', 'Recall', 'F1 Score']\n",
        "bar_width = 0.2\n",
        "x = range(len(metrics_df))\n",
        "\n",
        "for i, metric in enumerate(metrics_to_plot):\n",
        "    plt.bar([p + i * bar_width for p in x], metrics_df[metric], width=bar_width, label=metric)\n",
        "\n",
        "plt.xticks([p + 1.5 * bar_width for p in x], metrics_df['Model'], rotation=45, ha='right')\n",
        "plt.xlabel('Model')\n",
        "plt.ylabel('Score')\n",
        "plt.ylim(0, 1)\n",
        "plt.title('Comparison of Model Performance Metrics (ML and DL)')\n",
        "plt.legend()\n",
        "plt.tight_layout()\n",
        "plt.grid(axis='y', linestyle='--', alpha=0.7)\n",
        "plt.show()"
      ]
    },
    {
      "cell_type": "markdown",
      "metadata": {
        "id": "rmyJJkACQcK_"
      },
      "source": [
        "## 8. Inference (Voting Classifier)"
      ]
    },
    {
      "cell_type": "markdown",
      "metadata": {
        "id": "izq05YXORtZP"
      },
      "source": []
    },
    {
      "cell_type": "code",
      "execution_count": 7,
      "metadata": {
        "colab": {
          "base_uri": "https://localhost:8080/"
        },
        "id": "S0u2_tz-QsYP",
        "outputId": "a6ead01e-a7fc-4bab-a05c-db018b17f7a8"
      },
      "outputs": [
        {
          "name": "stdout",
          "output_type": "stream",
          "text": [
            "Before Oversampling:\n",
            "class\n",
            "1    15358\n",
            "2     3328\n",
            "0     1140\n",
            "Name: count, dtype: int64\n",
            "\n",
            "After Oversampling:\n",
            "class\n",
            "0    15358\n",
            "2    15358\n",
            "1    15358\n",
            "Name: count, dtype: int64\n"
          ]
        }
      ],
      "source": [
        "# Define preprocessing functions\n",
        "def clean_text(text):\n",
        "    text = text.lower()\n",
        "    text = re.sub(r'http\\S+|www\\S+|https\\S+', '', text, flags=re.MULTILINE)\n",
        "    text = re.sub(r'@\\w+', '', text)\n",
        "    text = re.sub(r'#', '', text)\n",
        "    text = re.sub(r'\\d+', '', text)\n",
        "    text = re.sub(r'[^\\w\\s]', '', text)\n",
        "    text = re.sub(r'\\s+', ' ', text).strip()\n",
        "    return text\n",
        "\n",
        "def remove_stopwords(text, stop_words):\n",
        "    tokens = text.split()\n",
        "    filtered = [word for word in tokens if word not in stop_words]\n",
        "    return ' '.join(filtered)\n",
        "\n",
        "def stem_text(text, stemmer):\n",
        "    tokens = text.split()\n",
        "    stemmed = [stemmer.stem(word) for word in tokens]\n",
        "    return ' '.join(stemmed)\n",
        "\n",
        "# Initialize preprocessing components\n",
        "stop_words = set(stopwords.words('english'))\n",
        "stemmer = PorterStemmer()\n",
        "\n",
        "# Apply preprocessing to the dataset\n",
        "df['cleaned_tweet'] = df['tweet'].apply(clean_text)\n",
        "df['cleaned_tweet'] = df['cleaned_tweet'].apply(lambda x: remove_stopwords(x, stop_words))\n",
        "df['cleaned_tweet'] = df['cleaned_tweet'].apply(lambda x: stem_text(x, stemmer))\n",
        "\n",
        "# Split the data\n",
        "X = df['cleaned_tweet']\n",
        "y = df['class']\n",
        "X_train, X_test, y_train, y_test = train_test_split(X, y, test_size=0.2, random_state=42)\n",
        "\n",
        "# Initialize and apply vectorizer\n",
        "vectorizer = CountVectorizer(max_features=5000)\n",
        "X_train_vec = vectorizer.fit_transform(X_train)\n",
        "X_test_vec = vectorizer.transform(X_test)\n",
        "\n",
        "# Apply oversampling\n",
        "ros = RandomOverSampler(random_state=42)\n",
        "X_train_resampled, y_train_resampled = ros.fit_resample(X_train_vec, y_train)\n",
        "\n",
        "# Show class distribution\n",
        "print(\"Before Oversampling:\")\n",
        "print(pd.Series(y_train).value_counts())\n",
        "print(\"\\nAfter Oversampling:\")\n",
        "print(pd.Series(y_train_resampled).value_counts())"
      ]
    },
    {
      "cell_type": "code",
      "execution_count": null,
      "metadata": {
        "colab": {
          "base_uri": "https://localhost:8080/"
        },
        "id": "fpHSi8xLTcx6",
        "outputId": "32f70741-a69d-427f-991f-998e06b28e1f"
      },
      "outputs": [
        {
          "name": "stdout",
          "output_type": "stream",
          "text": [
            "Voting Classifier Training Complete\n",
            "Model, vectorizer, stopwords, and stemmer saved to Google Drive\n"
          ]
        }
      ],
      "source": [
        "import joblib\n",
        "\n",
        "# Define individual classifiers\n",
        "log_reg = LogisticRegression(max_iter=1000, random_state=42)\n",
        "nb = MultinomialNB()\n",
        "svm = SVC(kernel='linear', probability=True, random_state=42)\n",
        "\n",
        "# Define Voting Classifier\n",
        "voting_clf = VotingClassifier(\n",
        "    estimators=[('lr', log_reg), ('nb', nb), ('svm', svm)],\n",
        "    voting='soft'\n",
        ")\n",
        "\n",
        "# Train Voting Classifier\n",
        "voting_clf.fit(X_train_resampled, y_train_resampled)\n",
        "\n",
        "print(\"Voting Classifier Training Complete\")\n",
        "print(\"Model, vectorizer, stopwords, and stemmer saved to Google Drive\")"
      ]
    },
    {
      "cell_type": "code",
      "execution_count": 9,
      "metadata": {
        "id": "GS04dHMXUbXk"
      },
      "outputs": [],
      "source": [
        "y_pred = voting_clf.predict(X_test_vec)\n",
        "\n",
        "acc = accuracy_score(y_test, y_pred)\n",
        "precision, recall, f1, _ = precision_recall_fscore_support(y_test, y_pred, average='weighted')"
      ]
    },
    {
      "cell_type": "code",
      "execution_count": 10,
      "metadata": {
        "colab": {
          "base_uri": "https://localhost:8080/"
        },
        "id": "XVueZ9X9Uhgc",
        "outputId": "e8ac15be-fd24-49e0-cd38-4f83760bf2fb"
      },
      "outputs": [
        {
          "name": "stdout",
          "output_type": "stream",
          "text": [
            "\n",
            "Voting Classifier Test Results:\n",
            "Accuracy: 0.8594\n",
            "Precision: 0.8869\n",
            "Recall: 0.8594\n",
            "F1 Score: 0.8705\n"
          ]
        }
      ],
      "source": [
        "print(\"\\nVoting Classifier Test Results:\")\n",
        "print(f\"Accuracy: {acc:.4f}\")\n",
        "print(f\"Precision: {precision:.4f}\")\n",
        "print(f\"Recall: {recall:.4f}\")\n",
        "print(f\"F1 Score: {f1:.4f}\")"
      ]
    },
    {
      "cell_type": "markdown",
      "metadata": {
        "id": "pUYK9zx9VirD"
      },
      "source": []
    },
    {
      "cell_type": "code",
      "execution_count": null,
      "metadata": {
        "colab": {
          "base_uri": "https://localhost:8080/"
        },
        "id": "mgxg7wEGVa60",
        "outputId": "b58d46f3-d8d6-4a32-abc7-0321549f3042"
      },
      "outputs": [],
      "source": []
    },
    {
      "cell_type": "code",
      "execution_count": null,
      "metadata": {},
      "outputs": [],
      "source": []
    }
  ],
  "metadata": {
    "accelerator": "GPU",
    "colab": {
      "gpuType": "T4",
      "provenance": []
    },
    "kernelspec": {
      "display_name": "base",
      "language": "python",
      "name": "python3"
    },
    "language_info": {
      "codemirror_mode": {
        "name": "ipython",
        "version": 3
      },
      "file_extension": ".py",
      "mimetype": "text/x-python",
      "name": "python",
      "nbconvert_exporter": "python",
      "pygments_lexer": "ipython3",
      "version": "3.12.4"
    }
  },
  "nbformat": 4,
  "nbformat_minor": 0
}
